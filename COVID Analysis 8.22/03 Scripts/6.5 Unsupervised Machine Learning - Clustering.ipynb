{
 "cells": [
  {
   "cell_type": "markdown",
   "id": "1bdc85eb",
   "metadata": {},
   "source": [
    "# 01. Import libraries and data"
   ]
  },
  {
   "cell_type": "code",
   "execution_count": 1,
   "id": "467f0d0f",
   "metadata": {},
   "outputs": [],
   "source": [
    "import pandas as pd\n",
    "import numpy as np\n",
    "import seaborn as sns\n",
    "import matplotlib\n",
    "import matplotlib.pyplot as plt\n",
    "import os\n",
    "import sklearn\n",
    "from sklearn.cluster import KMeans # Here is where you import the k-means algorithm from scikit-learn.\n",
    "import pylab as pl # PyLab is a convenience module that bulk imports matplotlib."
   ]
  },
  {
   "cell_type": "code",
   "execution_count": 2,
   "id": "ceacd0b9",
   "metadata": {},
   "outputs": [],
   "source": [
    "%matplotlib inline"
   ]
  },
  {
   "cell_type": "code",
   "execution_count": 3,
   "id": "dda6bc9b",
   "metadata": {},
   "outputs": [],
   "source": [
    "# establish path\n",
    "\n",
    "path = path = r'/Users/martyna/Documents/CF Data Analysis/Data Immersion/Achievement 6/COVID Analysis 8.22'"
   ]
  },
  {
   "cell_type": "code",
   "execution_count": 4,
   "id": "1f480cde",
   "metadata": {},
   "outputs": [],
   "source": [
    "# import data \n",
    "\n",
    "df = pd.read_csv(os.path.join(path, '02 Data', 'Prepared Data','covid_merged.csv'), index_col = False)"
   ]
  },
  {
   "cell_type": "code",
   "execution_count": 5,
   "id": "042a4d32",
   "metadata": {},
   "outputs": [
    {
     "data": {
      "text/html": [
       "<div>\n",
       "<style scoped>\n",
       "    .dataframe tbody tr th:only-of-type {\n",
       "        vertical-align: middle;\n",
       "    }\n",
       "\n",
       "    .dataframe tbody tr th {\n",
       "        vertical-align: top;\n",
       "    }\n",
       "\n",
       "    .dataframe thead th {\n",
       "        text-align: right;\n",
       "    }\n",
       "</style>\n",
       "<table border=\"1\" class=\"dataframe\">\n",
       "  <thead>\n",
       "    <tr style=\"text-align: right;\">\n",
       "      <th></th>\n",
       "      <th>Unnamed: 0</th>\n",
       "      <th>county</th>\n",
       "      <th>state</th>\n",
       "      <th>county_population</th>\n",
       "      <th>covid_inpatient_bed_utilization</th>\n",
       "      <th>covid_hospital_admissions_per_100k</th>\n",
       "      <th>covid_cases_per_100k</th>\n",
       "      <th>covid-19_community_level</th>\n",
       "      <th>date_updated</th>\n",
       "      <th>total_doses_given</th>\n",
       "      <th>doses_per_100k</th>\n",
       "      <th>percent_with_at_least_one_dose</th>\n",
       "      <th>people_fully_vaccinated</th>\n",
       "      <th>percent_fully_vaccinated</th>\n",
       "      <th>total_cases</th>\n",
       "      <th>case_rate_per_100k</th>\n",
       "      <th>total_deaths</th>\n",
       "      <th>death_rate_per_100k</th>\n",
       "      <th>total_percent_positive</th>\n",
       "    </tr>\n",
       "  </thead>\n",
       "  <tbody>\n",
       "    <tr>\n",
       "      <th>0</th>\n",
       "      <td>0</td>\n",
       "      <td>American Samoa</td>\n",
       "      <td>American Samoa</td>\n",
       "      <td>47392.0</td>\n",
       "      <td>0.0</td>\n",
       "      <td>2.1</td>\n",
       "      <td>156.14</td>\n",
       "      <td>Low</td>\n",
       "      <td>3/3/22</td>\n",
       "      <td>123210</td>\n",
       "      <td>259981.0</td>\n",
       "      <td>95.0</td>\n",
       "      <td>42156</td>\n",
       "      <td>89.0</td>\n",
       "      <td>8042.0</td>\n",
       "      <td>16969.0</td>\n",
       "      <td>33.0</td>\n",
       "      <td>69.0</td>\n",
       "      <td>NaN</td>\n",
       "    </tr>\n",
       "    <tr>\n",
       "      <th>1</th>\n",
       "      <td>1</td>\n",
       "      <td>American Samoa</td>\n",
       "      <td>American Samoa</td>\n",
       "      <td>47392.0</td>\n",
       "      <td>0.9</td>\n",
       "      <td>19.0</td>\n",
       "      <td>434.67</td>\n",
       "      <td>High</td>\n",
       "      <td>3/10/22</td>\n",
       "      <td>123210</td>\n",
       "      <td>259981.0</td>\n",
       "      <td>95.0</td>\n",
       "      <td>42156</td>\n",
       "      <td>89.0</td>\n",
       "      <td>8042.0</td>\n",
       "      <td>16969.0</td>\n",
       "      <td>33.0</td>\n",
       "      <td>69.0</td>\n",
       "      <td>NaN</td>\n",
       "    </tr>\n",
       "    <tr>\n",
       "      <th>2</th>\n",
       "      <td>2</td>\n",
       "      <td>American Samoa</td>\n",
       "      <td>American Samoa</td>\n",
       "      <td>47392.0</td>\n",
       "      <td>1.0</td>\n",
       "      <td>6.3</td>\n",
       "      <td>901.00</td>\n",
       "      <td>Medium</td>\n",
       "      <td>3/17/22</td>\n",
       "      <td>123210</td>\n",
       "      <td>259981.0</td>\n",
       "      <td>95.0</td>\n",
       "      <td>42156</td>\n",
       "      <td>89.0</td>\n",
       "      <td>8042.0</td>\n",
       "      <td>16969.0</td>\n",
       "      <td>33.0</td>\n",
       "      <td>69.0</td>\n",
       "      <td>NaN</td>\n",
       "    </tr>\n",
       "    <tr>\n",
       "      <th>3</th>\n",
       "      <td>3</td>\n",
       "      <td>American Samoa</td>\n",
       "      <td>American Samoa</td>\n",
       "      <td>47392.0</td>\n",
       "      <td>10.4</td>\n",
       "      <td>0.0</td>\n",
       "      <td>1093.01</td>\n",
       "      <td>High</td>\n",
       "      <td>4/14/22</td>\n",
       "      <td>123210</td>\n",
       "      <td>259981.0</td>\n",
       "      <td>95.0</td>\n",
       "      <td>42156</td>\n",
       "      <td>89.0</td>\n",
       "      <td>8042.0</td>\n",
       "      <td>16969.0</td>\n",
       "      <td>33.0</td>\n",
       "      <td>69.0</td>\n",
       "      <td>NaN</td>\n",
       "    </tr>\n",
       "    <tr>\n",
       "      <th>4</th>\n",
       "      <td>4</td>\n",
       "      <td>American Samoa</td>\n",
       "      <td>American Samoa</td>\n",
       "      <td>47392.0</td>\n",
       "      <td>4.1</td>\n",
       "      <td>80.2</td>\n",
       "      <td>267.98</td>\n",
       "      <td>High</td>\n",
       "      <td>4/21/22</td>\n",
       "      <td>123210</td>\n",
       "      <td>259981.0</td>\n",
       "      <td>95.0</td>\n",
       "      <td>42156</td>\n",
       "      <td>89.0</td>\n",
       "      <td>8042.0</td>\n",
       "      <td>16969.0</td>\n",
       "      <td>33.0</td>\n",
       "      <td>69.0</td>\n",
       "      <td>NaN</td>\n",
       "    </tr>\n",
       "  </tbody>\n",
       "</table>\n",
       "</div>"
      ],
      "text/plain": [
       "   Unnamed: 0          county           state  county_population  \\\n",
       "0           0  American Samoa  American Samoa            47392.0   \n",
       "1           1  American Samoa  American Samoa            47392.0   \n",
       "2           2  American Samoa  American Samoa            47392.0   \n",
       "3           3  American Samoa  American Samoa            47392.0   \n",
       "4           4  American Samoa  American Samoa            47392.0   \n",
       "\n",
       "   covid_inpatient_bed_utilization  covid_hospital_admissions_per_100k  \\\n",
       "0                              0.0                                 2.1   \n",
       "1                              0.9                                19.0   \n",
       "2                              1.0                                 6.3   \n",
       "3                             10.4                                 0.0   \n",
       "4                              4.1                                80.2   \n",
       "\n",
       "   covid_cases_per_100k covid-19_community_level date_updated  \\\n",
       "0                156.14                      Low       3/3/22   \n",
       "1                434.67                     High      3/10/22   \n",
       "2                901.00                   Medium      3/17/22   \n",
       "3               1093.01                     High      4/14/22   \n",
       "4                267.98                     High      4/21/22   \n",
       "\n",
       "   total_doses_given  doses_per_100k  percent_with_at_least_one_dose  \\\n",
       "0             123210        259981.0                            95.0   \n",
       "1             123210        259981.0                            95.0   \n",
       "2             123210        259981.0                            95.0   \n",
       "3             123210        259981.0                            95.0   \n",
       "4             123210        259981.0                            95.0   \n",
       "\n",
       "   people_fully_vaccinated  percent_fully_vaccinated  total_cases  \\\n",
       "0                    42156                      89.0       8042.0   \n",
       "1                    42156                      89.0       8042.0   \n",
       "2                    42156                      89.0       8042.0   \n",
       "3                    42156                      89.0       8042.0   \n",
       "4                    42156                      89.0       8042.0   \n",
       "\n",
       "   case_rate_per_100k  total_deaths  death_rate_per_100k  \\\n",
       "0             16969.0          33.0                 69.0   \n",
       "1             16969.0          33.0                 69.0   \n",
       "2             16969.0          33.0                 69.0   \n",
       "3             16969.0          33.0                 69.0   \n",
       "4             16969.0          33.0                 69.0   \n",
       "\n",
       "  total_percent_positive  \n",
       "0                    NaN  \n",
       "1                    NaN  \n",
       "2                    NaN  \n",
       "3                    NaN  \n",
       "4                    NaN  "
      ]
     },
     "execution_count": 5,
     "metadata": {},
     "output_type": "execute_result"
    }
   ],
   "source": [
    "df.head()"
   ]
  },
  {
   "cell_type": "code",
   "execution_count": 6,
   "id": "f5ff0548",
   "metadata": {},
   "outputs": [
    {
     "name": "stdout",
     "output_type": "stream",
     "text": [
      "<class 'pandas.core.frame.DataFrame'>\n",
      "RangeIndex: 79002 entries, 0 to 79001\n",
      "Data columns (total 19 columns):\n",
      " #   Column                              Non-Null Count  Dtype  \n",
      "---  ------                              --------------  -----  \n",
      " 0   Unnamed: 0                          79002 non-null  int64  \n",
      " 1   county                              79002 non-null  object \n",
      " 2   state                               79002 non-null  object \n",
      " 3   county_population                   78998 non-null  float64\n",
      " 4   covid_inpatient_bed_utilization     78862 non-null  float64\n",
      " 5   covid_hospital_admissions_per_100k  78975 non-null  float64\n",
      " 6   covid_cases_per_100k                79002 non-null  float64\n",
      " 7   covid-19_community_level            78978 non-null  object \n",
      " 8   date_updated                        79002 non-null  object \n",
      " 9   total_doses_given                   79002 non-null  int64  \n",
      " 10  doses_per_100k                      79002 non-null  float64\n",
      " 11  percent_with_at_least_one_dose      79002 non-null  float64\n",
      " 12  people_fully_vaccinated             79002 non-null  int64  \n",
      " 13  percent_fully_vaccinated            79002 non-null  float64\n",
      " 14  total_cases                         79002 non-null  float64\n",
      " 15  case_rate_per_100k                  79002 non-null  float64\n",
      " 16  total_deaths                        79002 non-null  float64\n",
      " 17  death_rate_per_100k                 79002 non-null  float64\n",
      " 18  total_percent_positive              69403 non-null  object \n",
      "dtypes: float64(11), int64(3), object(5)\n",
      "memory usage: 11.5+ MB\n"
     ]
    }
   ],
   "source": [
    "df.info()"
   ]
  },
  {
   "cell_type": "markdown",
   "id": "dd052889",
   "metadata": {},
   "source": [
    "# 02. Clean data"
   ]
  },
  {
   "cell_type": "code",
   "execution_count": 7,
   "id": "3093fbb3",
   "metadata": {},
   "outputs": [],
   "source": [
    "# make subset without categorical data\n",
    "# chose columns \"per 100k\" to keep the scale uniform\n",
    "\n",
    "df_cluster = df[['covid_hospital_admissions_per_100k',\n",
    "                'covid_cases_per_100k',\n",
    "                'doses_per_100k',\n",
    "                'case_rate_per_100k',\n",
    "                'death_rate_per_100k']]"
   ]
  },
  {
   "cell_type": "code",
   "execution_count": 8,
   "id": "fde792b6",
   "metadata": {},
   "outputs": [
    {
     "data": {
      "text/html": [
       "<div>\n",
       "<style scoped>\n",
       "    .dataframe tbody tr th:only-of-type {\n",
       "        vertical-align: middle;\n",
       "    }\n",
       "\n",
       "    .dataframe tbody tr th {\n",
       "        vertical-align: top;\n",
       "    }\n",
       "\n",
       "    .dataframe thead th {\n",
       "        text-align: right;\n",
       "    }\n",
       "</style>\n",
       "<table border=\"1\" class=\"dataframe\">\n",
       "  <thead>\n",
       "    <tr style=\"text-align: right;\">\n",
       "      <th></th>\n",
       "      <th>covid_hospital_admissions_per_100k</th>\n",
       "      <th>covid_cases_per_100k</th>\n",
       "      <th>doses_per_100k</th>\n",
       "      <th>case_rate_per_100k</th>\n",
       "      <th>death_rate_per_100k</th>\n",
       "    </tr>\n",
       "  </thead>\n",
       "  <tbody>\n",
       "    <tr>\n",
       "      <th>0</th>\n",
       "      <td>2.1</td>\n",
       "      <td>156.14</td>\n",
       "      <td>259981.0</td>\n",
       "      <td>16969.0</td>\n",
       "      <td>69.0</td>\n",
       "    </tr>\n",
       "    <tr>\n",
       "      <th>1</th>\n",
       "      <td>19.0</td>\n",
       "      <td>434.67</td>\n",
       "      <td>259981.0</td>\n",
       "      <td>16969.0</td>\n",
       "      <td>69.0</td>\n",
       "    </tr>\n",
       "    <tr>\n",
       "      <th>2</th>\n",
       "      <td>6.3</td>\n",
       "      <td>901.00</td>\n",
       "      <td>259981.0</td>\n",
       "      <td>16969.0</td>\n",
       "      <td>69.0</td>\n",
       "    </tr>\n",
       "    <tr>\n",
       "      <th>3</th>\n",
       "      <td>0.0</td>\n",
       "      <td>1093.01</td>\n",
       "      <td>259981.0</td>\n",
       "      <td>16969.0</td>\n",
       "      <td>69.0</td>\n",
       "    </tr>\n",
       "    <tr>\n",
       "      <th>4</th>\n",
       "      <td>80.2</td>\n",
       "      <td>267.98</td>\n",
       "      <td>259981.0</td>\n",
       "      <td>16969.0</td>\n",
       "      <td>69.0</td>\n",
       "    </tr>\n",
       "  </tbody>\n",
       "</table>\n",
       "</div>"
      ],
      "text/plain": [
       "   covid_hospital_admissions_per_100k  covid_cases_per_100k  doses_per_100k  \\\n",
       "0                                 2.1                156.14        259981.0   \n",
       "1                                19.0                434.67        259981.0   \n",
       "2                                 6.3                901.00        259981.0   \n",
       "3                                 0.0               1093.01        259981.0   \n",
       "4                                80.2                267.98        259981.0   \n",
       "\n",
       "   case_rate_per_100k  death_rate_per_100k  \n",
       "0             16969.0                 69.0  \n",
       "1             16969.0                 69.0  \n",
       "2             16969.0                 69.0  \n",
       "3             16969.0                 69.0  \n",
       "4             16969.0                 69.0  "
      ]
     },
     "execution_count": 8,
     "metadata": {},
     "output_type": "execute_result"
    }
   ],
   "source": [
    "df_cluster.head()"
   ]
  },
  {
   "cell_type": "code",
   "execution_count": 9,
   "id": "c08ed83a",
   "metadata": {},
   "outputs": [
    {
     "data": {
      "text/html": [
       "<div>\n",
       "<style scoped>\n",
       "    .dataframe tbody tr th:only-of-type {\n",
       "        vertical-align: middle;\n",
       "    }\n",
       "\n",
       "    .dataframe tbody tr th {\n",
       "        vertical-align: top;\n",
       "    }\n",
       "\n",
       "    .dataframe thead th {\n",
       "        text-align: right;\n",
       "    }\n",
       "</style>\n",
       "<table border=\"1\" class=\"dataframe\">\n",
       "  <thead>\n",
       "    <tr style=\"text-align: right;\">\n",
       "      <th></th>\n",
       "      <th>covid_hospital_admissions_per_100k</th>\n",
       "      <th>covid_cases_per_100k</th>\n",
       "      <th>doses_per_100k</th>\n",
       "      <th>case_rate_per_100k</th>\n",
       "      <th>death_rate_per_100k</th>\n",
       "    </tr>\n",
       "  </thead>\n",
       "  <tbody>\n",
       "    <tr>\n",
       "      <th>count</th>\n",
       "      <td>78975.000000</td>\n",
       "      <td>79002.000000</td>\n",
       "      <td>79002.000000</td>\n",
       "      <td>79002.000000</td>\n",
       "      <td>79002.000000</td>\n",
       "    </tr>\n",
       "    <tr>\n",
       "      <th>mean</th>\n",
       "      <td>7.258606</td>\n",
       "      <td>145.236577</td>\n",
       "      <td>231051.970279</td>\n",
       "      <td>28123.993215</td>\n",
       "      <td>313.613402</td>\n",
       "    </tr>\n",
       "    <tr>\n",
       "      <th>std</th>\n",
       "      <td>6.957114</td>\n",
       "      <td>204.133005</td>\n",
       "      <td>20108.592375</td>\n",
       "      <td>3068.716771</td>\n",
       "      <td>70.331667</td>\n",
       "    </tr>\n",
       "    <tr>\n",
       "      <th>min</th>\n",
       "      <td>0.000000</td>\n",
       "      <td>0.000000</td>\n",
       "      <td>186085.000000</td>\n",
       "      <td>16969.000000</td>\n",
       "      <td>69.000000</td>\n",
       "    </tr>\n",
       "    <tr>\n",
       "      <th>25%</th>\n",
       "      <td>2.400000</td>\n",
       "      <td>35.740000</td>\n",
       "      <td>218923.000000</td>\n",
       "      <td>26089.000000</td>\n",
       "      <td>247.000000</td>\n",
       "    </tr>\n",
       "    <tr>\n",
       "      <th>50%</th>\n",
       "      <td>5.800000</td>\n",
       "      <td>100.300000</td>\n",
       "      <td>231682.000000</td>\n",
       "      <td>27952.000000</td>\n",
       "      <td>322.000000</td>\n",
       "    </tr>\n",
       "    <tr>\n",
       "      <th>75%</th>\n",
       "      <td>10.200000</td>\n",
       "      <td>198.450000</td>\n",
       "      <td>241358.000000</td>\n",
       "      <td>29931.000000</td>\n",
       "      <td>369.000000</td>\n",
       "    </tr>\n",
       "    <tr>\n",
       "      <th>max</th>\n",
       "      <td>171.200000</td>\n",
       "      <td>13017.750000</td>\n",
       "      <td>320597.000000</td>\n",
       "      <td>37666.000000</td>\n",
       "      <td>427.000000</td>\n",
       "    </tr>\n",
       "  </tbody>\n",
       "</table>\n",
       "</div>"
      ],
      "text/plain": [
       "       covid_hospital_admissions_per_100k  covid_cases_per_100k  \\\n",
       "count                        78975.000000          79002.000000   \n",
       "mean                             7.258606            145.236577   \n",
       "std                              6.957114            204.133005   \n",
       "min                              0.000000              0.000000   \n",
       "25%                              2.400000             35.740000   \n",
       "50%                              5.800000            100.300000   \n",
       "75%                             10.200000            198.450000   \n",
       "max                            171.200000          13017.750000   \n",
       "\n",
       "       doses_per_100k  case_rate_per_100k  death_rate_per_100k  \n",
       "count    79002.000000        79002.000000         79002.000000  \n",
       "mean    231051.970279        28123.993215           313.613402  \n",
       "std      20108.592375         3068.716771            70.331667  \n",
       "min     186085.000000        16969.000000            69.000000  \n",
       "25%     218923.000000        26089.000000           247.000000  \n",
       "50%     231682.000000        27952.000000           322.000000  \n",
       "75%     241358.000000        29931.000000           369.000000  \n",
       "max     320597.000000        37666.000000           427.000000  "
      ]
     },
     "execution_count": 9,
     "metadata": {},
     "output_type": "execute_result"
    }
   ],
   "source": [
    "df_cluster.describe()"
   ]
  },
  {
   "cell_type": "code",
   "execution_count": 10,
   "id": "cd76921b",
   "metadata": {},
   "outputs": [
    {
     "data": {
      "text/plain": [
       "covid_hospital_admissions_per_100k    27\n",
       "covid_cases_per_100k                   0\n",
       "doses_per_100k                         0\n",
       "case_rate_per_100k                     0\n",
       "death_rate_per_100k                    0\n",
       "dtype: int64"
      ]
     },
     "execution_count": 10,
     "metadata": {},
     "output_type": "execute_result"
    }
   ],
   "source": [
    "df_cluster.isnull().sum()"
   ]
  },
  {
   "cell_type": "markdown",
   "id": "fc7b27dc",
   "metadata": {},
   "source": [
    "Cannot run cluster with null values. As there is a small amount of missing values, will create subset without missing values to run cluster"
   ]
  },
  {
   "cell_type": "code",
   "execution_count": 11,
   "id": "ca06fa57",
   "metadata": {},
   "outputs": [],
   "source": [
    "df_cluster2 = df_cluster[df_cluster['covid_hospital_admissions_per_100k'].isnull()== False]"
   ]
  },
  {
   "cell_type": "markdown",
   "id": "88059612",
   "metadata": {},
   "source": [
    "# 03. Elbow"
   ]
  },
  {
   "cell_type": "code",
   "execution_count": 12,
   "id": "2b1fd311",
   "metadata": {},
   "outputs": [],
   "source": [
    "num_cl = range(1, 10) # defines the range of potential clusters in the data\n",
    "kmeans = [KMeans(n_clusters=i) for i in num_cl] # defines k-means clusters in the range assigned above"
   ]
  },
  {
   "cell_type": "code",
   "execution_count": 13,
   "id": "d4967e95",
   "metadata": {},
   "outputs": [
    {
     "data": {
      "text/plain": [
       "[-32686825759033.53,\n",
       " -14359053347755.748,\n",
       " -7006222572645.328,\n",
       " -4546250363101.889,\n",
       " -2886129897258.6426,\n",
       " -2115549240221.819,\n",
       " -1809218346151.711,\n",
       " -1395082679370.0483,\n",
       " -1132322652147.025]"
      ]
     },
     "execution_count": 13,
     "metadata": {},
     "output_type": "execute_result"
    }
   ],
   "source": [
    "score = [kmeans[i].fit(df_cluster2).score(df_cluster2) for i in range(len(kmeans))] # creates a score that represents \n",
    "# a rate of variation for the given cluster option\n",
    "\n",
    "score"
   ]
  },
  {
   "cell_type": "code",
   "execution_count": 14,
   "id": "00fa2acc",
   "metadata": {},
   "outputs": [
    {
     "data": {
      "image/png": "[encoded data removed]",
      "text/plain": [
       "<Figure size 432x288 with 1 Axes>"
      ]
     },
     "metadata": {
      "needs_background": "light"
     },
     "output_type": "display_data"
    }
   ],
   "source": [
    "# plot the elbow curve using PyLab.\n",
    "\n",
    "pl.plot(num_cl,score)\n",
    "pl.xlabel('Number of Clusters')\n",
    "pl.ylabel('Score')\n",
    "pl.title('Elbow Curve')\n",
    "pl.show()"
   ]
  },
  {
   "cell_type": "markdown",
   "id": "328d13cc",
   "metadata": {},
   "source": [
    "Curve starts flattening after 3 clusters, will use 3 clusters."
   ]
  },
  {
   "cell_type": "markdown",
   "id": "0fc86fde",
   "metadata": {},
   "source": [
    "# 04. K-Means Clustering"
   ]
  },
  {
   "cell_type": "code",
   "execution_count": 15,
   "id": "31b0f708",
   "metadata": {},
   "outputs": [],
   "source": [
    "# create the k-means object.\n",
    "\n",
    "kmeans = KMeans(n_clusters = 3) "
   ]
  },
  {
   "cell_type": "code",
   "execution_count": 16,
   "id": "b0371ce0",
   "metadata": {},
   "outputs": [
    {
     "data": {
      "text/plain": [
       "KMeans(n_clusters=3)"
      ]
     },
     "execution_count": 16,
     "metadata": {},
     "output_type": "execute_result"
    }
   ],
   "source": [
    "# fit the k-means object to the data.\n",
    "\n",
    "kmeans.fit(df_cluster2)"
   ]
  },
  {
   "cell_type": "code",
   "execution_count": 17,
   "id": "c19914ae",
   "metadata": {},
   "outputs": [
    {
     "name": "stderr",
     "output_type": "stream",
     "text": [
      "/var/folders/gd/zq96wcpj6d54521g77cwf7sh0000gn/T/ipykernel_33303/1603347386.py:1: SettingWithCopyWarning: \n",
      "A value is trying to be set on a copy of a slice from a DataFrame.\n",
      "Try using .loc[row_indexer,col_indexer] = value instead\n",
      "\n",
      "See the caveats in the documentation: https://pandas.pydata.org/pandas-docs/stable/user_guide/indexing.html#returning-a-view-versus-a-copy\n",
      "  df_cluster2['clusters'] = kmeans.fit_predict(df_cluster2)\n"
     ]
    }
   ],
   "source": [
    "df_cluster2['clusters'] = kmeans.fit_predict(df_cluster2)"
   ]
  },
  {
   "cell_type": "code",
   "execution_count": 18,
   "id": "9f174482",
   "metadata": {},
   "outputs": [
    {
     "data": {
      "text/html": [
       "<div>\n",
       "<style scoped>\n",
       "    .dataframe tbody tr th:only-of-type {\n",
       "        vertical-align: middle;\n",
       "    }\n",
       "\n",
       "    .dataframe tbody tr th {\n",
       "        vertical-align: top;\n",
       "    }\n",
       "\n",
       "    .dataframe thead th {\n",
       "        text-align: right;\n",
       "    }\n",
       "</style>\n",
       "<table border=\"1\" class=\"dataframe\">\n",
       "  <thead>\n",
       "    <tr style=\"text-align: right;\">\n",
       "      <th></th>\n",
       "      <th>covid_hospital_admissions_per_100k</th>\n",
       "      <th>covid_cases_per_100k</th>\n",
       "      <th>doses_per_100k</th>\n",
       "      <th>case_rate_per_100k</th>\n",
       "      <th>death_rate_per_100k</th>\n",
       "      <th>clusters</th>\n",
       "    </tr>\n",
       "  </thead>\n",
       "  <tbody>\n",
       "    <tr>\n",
       "      <th>0</th>\n",
       "      <td>2.1</td>\n",
       "      <td>156.14</td>\n",
       "      <td>259981.0</td>\n",
       "      <td>16969.0</td>\n",
       "      <td>69.0</td>\n",
       "      <td>1</td>\n",
       "    </tr>\n",
       "    <tr>\n",
       "      <th>1</th>\n",
       "      <td>19.0</td>\n",
       "      <td>434.67</td>\n",
       "      <td>259981.0</td>\n",
       "      <td>16969.0</td>\n",
       "      <td>69.0</td>\n",
       "      <td>1</td>\n",
       "    </tr>\n",
       "    <tr>\n",
       "      <th>2</th>\n",
       "      <td>6.3</td>\n",
       "      <td>901.00</td>\n",
       "      <td>259981.0</td>\n",
       "      <td>16969.0</td>\n",
       "      <td>69.0</td>\n",
       "      <td>1</td>\n",
       "    </tr>\n",
       "    <tr>\n",
       "      <th>3</th>\n",
       "      <td>0.0</td>\n",
       "      <td>1093.01</td>\n",
       "      <td>259981.0</td>\n",
       "      <td>16969.0</td>\n",
       "      <td>69.0</td>\n",
       "      <td>1</td>\n",
       "    </tr>\n",
       "    <tr>\n",
       "      <th>4</th>\n",
       "      <td>80.2</td>\n",
       "      <td>267.98</td>\n",
       "      <td>259981.0</td>\n",
       "      <td>16969.0</td>\n",
       "      <td>69.0</td>\n",
       "      <td>1</td>\n",
       "    </tr>\n",
       "  </tbody>\n",
       "</table>\n",
       "</div>"
      ],
      "text/plain": [
       "   covid_hospital_admissions_per_100k  covid_cases_per_100k  doses_per_100k  \\\n",
       "0                                 2.1                156.14        259981.0   \n",
       "1                                19.0                434.67        259981.0   \n",
       "2                                 6.3                901.00        259981.0   \n",
       "3                                 0.0               1093.01        259981.0   \n",
       "4                                80.2                267.98        259981.0   \n",
       "\n",
       "   case_rate_per_100k  death_rate_per_100k  clusters  \n",
       "0             16969.0                 69.0         1  \n",
       "1             16969.0                 69.0         1  \n",
       "2             16969.0                 69.0         1  \n",
       "3             16969.0                 69.0         1  \n",
       "4             16969.0                 69.0         1  "
      ]
     },
     "execution_count": 18,
     "metadata": {},
     "output_type": "execute_result"
    }
   ],
   "source": [
    "df_cluster2.head()"
   ]
  },
  {
   "cell_type": "code",
   "execution_count": 19,
   "id": "2429c41d",
   "metadata": {},
   "outputs": [
    {
     "data": {
      "text/plain": [
       "0    44034\n",
       "2    18072\n",
       "1    16869\n",
       "Name: clusters, dtype: int64"
      ]
     },
     "execution_count": 19,
     "metadata": {},
     "output_type": "execute_result"
    }
   ],
   "source": [
    "df_cluster2['clusters'].value_counts()"
   ]
  },
  {
   "cell_type": "code",
   "execution_count": 20,
   "id": "1e24665f",
   "metadata": {},
   "outputs": [
    {
     "data": {
      "image/png": "[encoded data removed]",
      "text/plain": [
       "<Figure size 864x576 with 1 Axes>"
      ]
     },
     "metadata": {
      "needs_background": "light"
     },
     "output_type": "display_data"
    }
   ],
   "source": [
    "# plot the clusters for the \"doses_per_100k\" and \"case_rate_per_100k\" variables.\n",
    "\n",
    "plt.figure(figsize=(12,8))\n",
    "ax = sns.scatterplot(x=df_cluster2['case_rate_per_100k'], y=df_cluster2['doses_per_100k'], hue=kmeans.labels_, s=100) \n",
    "# Here, you're subsetting `X` for the x and y arguments to avoid using their labels. \n",
    "# `hue` takes the value of the attribute `kmeans.labels_`, which is the result of running the k-means algorithm.\n",
    "# `s` represents the size of the points you want to see in the plot.\n",
    "\n",
    "ax.grid(False) # This removes the grid from the background.\n",
    "plt.xlabel('COVID-19 case rate per 100k') # Label x-axis.\n",
    "plt.ylabel('Vaccine doses per 100k') # Label y-axis.\n",
    "plt.show()"
   ]
  },
  {
   "cell_type": "markdown",
   "id": "71685c4a",
   "metadata": {},
   "source": [
    "While data points from each cluster appear on the high case rate side, data from cluster 2 which is the highest vaccination rate is present in the lower case rate. This enforces the hypothesis that higher vaccination rate will have a lower COVID-19 case rate. "
   ]
  },
  {
   "cell_type": "code",
   "execution_count": 21,
   "id": "e33472ab",
   "metadata": {},
   "outputs": [
    {
     "data": {
      "image/png": "[encoded data removed]",
      "text/plain": [
       "<Figure size 864x576 with 1 Axes>"
      ]
     },
     "metadata": {
      "needs_background": "light"
     },
     "output_type": "display_data"
    }
   ],
   "source": [
    "# plot the clusters for the \"doses_per_100k\" and \"death_rate_per_100k\" variables.\n",
    "\n",
    "plt.figure(figsize=(12,8))\n",
    "ax = sns.scatterplot(x=df_cluster2['death_rate_per_100k'], y=df_cluster2['doses_per_100k'], hue=kmeans.labels_, s=100) \n",
    "# Here, you're subsetting `X` for the x and y arguments to avoid using their labels. \n",
    "# `hue` takes the value of the attribute `kmeans.labels_`, which is the result of running the k-means algorithm.\n",
    "# `s` represents the size of the points you want to see in the plot.\n",
    "\n",
    "ax.grid(False) # This removes the grid from the background.\n",
    "plt.xlabel('COVID-19 death rate per 100k') # Label x-axis.\n",
    "plt.ylabel('Vaccine doses per 100k') # Label y-axis.\n",
    "plt.show()"
   ]
  },
  {
   "cell_type": "markdown",
   "id": "6e030ffc",
   "metadata": {},
   "source": [
    "Similar to the above scatter plot, cluster 2 has more data points on the left side of the chart which indicates lower COVID-19 death rate. This reinforces the hypothesis that higher vaccination rates will yield lower COVID-19 death rates. "
   ]
  },
  {
   "cell_type": "code",
   "execution_count": 22,
   "id": "fc546d62",
   "metadata": {},
   "outputs": [
    {
     "name": "stderr",
     "output_type": "stream",
     "text": [
      "/var/folders/gd/zq96wcpj6d54521g77cwf7sh0000gn/T/ipykernel_33303/1428278923.py:1: SettingWithCopyWarning: \n",
      "A value is trying to be set on a copy of a slice from a DataFrame.\n",
      "Try using .loc[row_indexer,col_indexer] = value instead\n",
      "\n",
      "See the caveats in the documentation: https://pandas.pydata.org/pandas-docs/stable/user_guide/indexing.html#returning-a-view-versus-a-copy\n",
      "  df_cluster2.loc[df_cluster2['clusters'] == 2, 'cluster'] = 'dark purple'\n"
     ]
    }
   ],
   "source": [
    "df_cluster2.loc[df_cluster2['clusters'] == 2, 'cluster'] = 'dark purple'\n",
    "df_cluster2.loc[df_cluster2['clusters'] == 1, 'cluster'] = 'purple'\n",
    "df_cluster2.loc[df_cluster2['clusters'] == 0, 'cluster'] = 'pink'"
   ]
  },
  {
   "cell_type": "code",
   "execution_count": 23,
   "id": "e84e0d41",
   "metadata": {},
   "outputs": [
    {
     "data": {
      "text/html": [
       "<div>\n",
       "<style scoped>\n",
       "    .dataframe tbody tr th:only-of-type {\n",
       "        vertical-align: middle;\n",
       "    }\n",
       "\n",
       "    .dataframe tbody tr th {\n",
       "        vertical-align: top;\n",
       "    }\n",
       "\n",
       "    .dataframe thead tr th {\n",
       "        text-align: left;\n",
       "    }\n",
       "\n",
       "    .dataframe thead tr:last-of-type th {\n",
       "        text-align: right;\n",
       "    }\n",
       "</style>\n",
       "<table border=\"1\" class=\"dataframe\">\n",
       "  <thead>\n",
       "    <tr>\n",
       "      <th></th>\n",
       "      <th colspan=\"2\" halign=\"left\">case_rate_per_100k</th>\n",
       "      <th colspan=\"2\" halign=\"left\">doses_per_100k</th>\n",
       "      <th colspan=\"2\" halign=\"left\">death_rate_per_100k</th>\n",
       "    </tr>\n",
       "    <tr>\n",
       "      <th></th>\n",
       "      <th>mean</th>\n",
       "      <th>median</th>\n",
       "      <th>mean</th>\n",
       "      <th>median</th>\n",
       "      <th>mean</th>\n",
       "      <th>median</th>\n",
       "    </tr>\n",
       "    <tr>\n",
       "      <th>cluster</th>\n",
       "      <th></th>\n",
       "      <th></th>\n",
       "      <th></th>\n",
       "      <th></th>\n",
       "      <th></th>\n",
       "      <th></th>\n",
       "    </tr>\n",
       "  </thead>\n",
       "  <tbody>\n",
       "    <tr>\n",
       "      <th>dark purple</th>\n",
       "      <td>29499.407260</td>\n",
       "      <td>29613.0</td>\n",
       "      <td>205806.082559</td>\n",
       "      <td>207591.0</td>\n",
       "      <td>355.989985</td>\n",
       "      <td>369.0</td>\n",
       "    </tr>\n",
       "    <tr>\n",
       "      <th>pink</th>\n",
       "      <td>28483.137076</td>\n",
       "      <td>28004.0</td>\n",
       "      <td>230372.353477</td>\n",
       "      <td>232605.0</td>\n",
       "      <td>319.926398</td>\n",
       "      <td>312.0</td>\n",
       "    </tr>\n",
       "    <tr>\n",
       "      <th>purple</th>\n",
       "      <td>25714.042800</td>\n",
       "      <td>24457.0</td>\n",
       "      <td>259864.482127</td>\n",
       "      <td>253586.0</td>\n",
       "      <td>251.803723</td>\n",
       "      <td>236.0</td>\n",
       "    </tr>\n",
       "  </tbody>\n",
       "</table>\n",
       "</div>"
      ],
      "text/plain": [
       "            case_rate_per_100k          doses_per_100k            \\\n",
       "                          mean   median           mean    median   \n",
       "cluster                                                            \n",
       "dark purple       29499.407260  29613.0  205806.082559  207591.0   \n",
       "pink              28483.137076  28004.0  230372.353477  232605.0   \n",
       "purple            25714.042800  24457.0  259864.482127  253586.0   \n",
       "\n",
       "            death_rate_per_100k         \n",
       "                           mean median  \n",
       "cluster                                 \n",
       "dark purple          355.989985  369.0  \n",
       "pink                 319.926398  312.0  \n",
       "purple               251.803723  236.0  "
      ]
     },
     "execution_count": 23,
     "metadata": {},
     "output_type": "execute_result"
    }
   ],
   "source": [
    "df_cluster2.groupby('cluster').agg({'case_rate_per_100k':['mean', 'median'], \n",
    "                                            'doses_per_100k':['mean', 'median'], \n",
    "                                            'death_rate_per_100k':['mean', 'median']})"
   ]
  },
  {
   "cell_type": "markdown",
   "id": "8ddba4b8",
   "metadata": {},
   "source": [
    "The dark purple cluster has the highest mean and median for doses per 100k, and lowest mean and median for case and death rates per 100k. Pink has the lowest mean and median for doses per 100k, and highest mean and median for case and death rates per 100k. Purple is in between these two clusters. \n",
    "This all reinforces the previously made hypothesis about vaccines decreasing COVID-19 case rates and death rates."
   ]
  },
  {
   "cell_type": "markdown",
   "id": "ad62aa0e",
   "metadata": {},
   "source": [
    "#### Future Steps\n",
    "It could be interesting to explore how population density affects these variables. "
   ]
  },
  {
   "cell_type": "code",
   "execution_count": 24,
   "id": "f882e580",
   "metadata": {},
   "outputs": [],
   "source": [
    "# Exporting as csv file\n",
    "\n",
    "df_cluster2.to_csv(os.path.join(path, '02 Data', 'Prepared Data', 'cluster.csv'))"
   ]
  },
  {
   "cell_type": "code",
   "execution_count": null,
   "id": "898addf1",
   "metadata": {},
   "outputs": [],
   "source": []
  }
 ],
 "metadata": {
  "kernelspec": {
   "display_name": "Python 3 (ipykernel)",
   "language": "python",
   "name": "python3"
  },
  "language_info": {
   "codemirror_mode": {
    "name": "ipython",
    "version": 3
   },
   "file_extension": ".py",
   "mimetype": "text/x-python",
   "name": "python",
   "nbconvert_exporter": "python",
   "pygments_lexer": "ipython3",
   "version": "3.9.12"
  }
 },
 "nbformat": 4,
 "nbformat_minor": 5
}
