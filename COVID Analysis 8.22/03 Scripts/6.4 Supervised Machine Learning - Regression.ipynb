{
 "cells": [
  {
   "cell_type": "markdown",
   "id": "f56b352a",
   "metadata": {},
   "source": [
    "# Importing libraries and data"
   ]
  },
  {
   "cell_type": "code",
   "execution_count": 1,
   "id": "970d1b3f",
   "metadata": {},
   "outputs": [],
   "source": [
    "# import libraries\n",
    "\n",
    "import pandas as pd\n",
    "import numpy as np\n",
    "import seaborn as sns\n",
    "import matplotlib\n",
    "import matplotlib.pyplot as plt\n",
    "import os\n",
    "import sklearn\n",
    "from sklearn.model_selection import train_test_split \n",
    "from sklearn.linear_model import LinearRegression\n",
    "from sklearn.metrics import mean_squared_error, r2_score"
   ]
  },
  {
   "cell_type": "code",
   "execution_count": 2,
   "id": "eb2b0ccf",
   "metadata": {},
   "outputs": [],
   "source": [
    "# graphs created are displayed within the notebook without the need to call them specifically\n",
    "\n",
    "%matplotlib inline"
   ]
  },
  {
   "cell_type": "code",
   "execution_count": 3,
   "id": "fa19b256",
   "metadata": {},
   "outputs": [],
   "source": [
    "# establish path\n",
    "\n",
    "path = path = r'/Users/martyna/Documents/CF Data Analysis/Data Immersion/Achievement 6/COVID Analysis 8.22'"
   ]
  },
  {
   "cell_type": "code",
   "execution_count": 4,
   "id": "9c1a49d3",
   "metadata": {},
   "outputs": [],
   "source": [
    "# import data \n",
    "\n",
    "df = pd.read_csv(os.path.join(path, '02 Data', 'Prepared Data','covid_merged.csv'), index_col = False)"
   ]
  },
  {
   "cell_type": "markdown",
   "id": "09c969dc",
   "metadata": {},
   "source": [
    "# Cleaning data"
   ]
  },
  {
   "cell_type": "code",
   "execution_count": 5,
   "id": "b8812fc5",
   "metadata": {},
   "outputs": [
    {
     "data": {
      "text/plain": [
       "Index(['Unnamed: 0', 'county', 'state', 'county_population',\n",
       "       'covid_inpatient_bed_utilization', 'covid_hospital_admissions_per_100k',\n",
       "       'covid_cases_per_100k', 'covid-19_community_level', 'date_updated',\n",
       "       'total_doses_given', 'doses_per_100k', 'percent_with_at_least_one_dose',\n",
       "       'people_fully_vaccinated', 'percent_fully_vaccinated', 'total_cases',\n",
       "       'case_rate_per_100k', 'total_deaths', 'death_rate_per_100k',\n",
       "       'total_percent_positive'],\n",
       "      dtype='object')"
      ]
     },
     "execution_count": 5,
     "metadata": {},
     "output_type": "execute_result"
    }
   ],
   "source": [
    "df.columns"
   ]
  },
  {
   "cell_type": "code",
   "execution_count": 6,
   "id": "c84abdbb",
   "metadata": {},
   "outputs": [
    {
     "data": {
      "text/html": [
       "<div>\n",
       "<style scoped>\n",
       "    .dataframe tbody tr th:only-of-type {\n",
       "        vertical-align: middle;\n",
       "    }\n",
       "\n",
       "    .dataframe tbody tr th {\n",
       "        vertical-align: top;\n",
       "    }\n",
       "\n",
       "    .dataframe thead th {\n",
       "        text-align: right;\n",
       "    }\n",
       "</style>\n",
       "<table border=\"1\" class=\"dataframe\">\n",
       "  <thead>\n",
       "    <tr style=\"text-align: right;\">\n",
       "      <th></th>\n",
       "      <th>Unnamed: 0</th>\n",
       "      <th>county</th>\n",
       "      <th>state</th>\n",
       "      <th>county_population</th>\n",
       "      <th>covid_inpatient_bed_utilization</th>\n",
       "      <th>covid_hospital_admissions_per_100k</th>\n",
       "      <th>covid_cases_per_100k</th>\n",
       "      <th>covid-19_community_level</th>\n",
       "      <th>date_updated</th>\n",
       "      <th>total_doses_given</th>\n",
       "      <th>doses_per_100k</th>\n",
       "      <th>percent_with_at_least_one_dose</th>\n",
       "      <th>people_fully_vaccinated</th>\n",
       "      <th>percent_fully_vaccinated</th>\n",
       "      <th>total_cases</th>\n",
       "      <th>case_rate_per_100k</th>\n",
       "      <th>total_deaths</th>\n",
       "      <th>death_rate_per_100k</th>\n",
       "      <th>total_percent_positive</th>\n",
       "    </tr>\n",
       "  </thead>\n",
       "  <tbody>\n",
       "    <tr>\n",
       "      <th>0</th>\n",
       "      <td>0</td>\n",
       "      <td>American Samoa</td>\n",
       "      <td>American Samoa</td>\n",
       "      <td>47392.0</td>\n",
       "      <td>0.0</td>\n",
       "      <td>2.1</td>\n",
       "      <td>156.14</td>\n",
       "      <td>Low</td>\n",
       "      <td>3/3/22</td>\n",
       "      <td>123210</td>\n",
       "      <td>259981.0</td>\n",
       "      <td>95.0</td>\n",
       "      <td>42156</td>\n",
       "      <td>89.0</td>\n",
       "      <td>8042.0</td>\n",
       "      <td>16969.0</td>\n",
       "      <td>33.0</td>\n",
       "      <td>69.0</td>\n",
       "      <td>NaN</td>\n",
       "    </tr>\n",
       "    <tr>\n",
       "      <th>1</th>\n",
       "      <td>1</td>\n",
       "      <td>American Samoa</td>\n",
       "      <td>American Samoa</td>\n",
       "      <td>47392.0</td>\n",
       "      <td>0.9</td>\n",
       "      <td>19.0</td>\n",
       "      <td>434.67</td>\n",
       "      <td>High</td>\n",
       "      <td>3/10/22</td>\n",
       "      <td>123210</td>\n",
       "      <td>259981.0</td>\n",
       "      <td>95.0</td>\n",
       "      <td>42156</td>\n",
       "      <td>89.0</td>\n",
       "      <td>8042.0</td>\n",
       "      <td>16969.0</td>\n",
       "      <td>33.0</td>\n",
       "      <td>69.0</td>\n",
       "      <td>NaN</td>\n",
       "    </tr>\n",
       "    <tr>\n",
       "      <th>2</th>\n",
       "      <td>2</td>\n",
       "      <td>American Samoa</td>\n",
       "      <td>American Samoa</td>\n",
       "      <td>47392.0</td>\n",
       "      <td>1.0</td>\n",
       "      <td>6.3</td>\n",
       "      <td>901.00</td>\n",
       "      <td>Medium</td>\n",
       "      <td>3/17/22</td>\n",
       "      <td>123210</td>\n",
       "      <td>259981.0</td>\n",
       "      <td>95.0</td>\n",
       "      <td>42156</td>\n",
       "      <td>89.0</td>\n",
       "      <td>8042.0</td>\n",
       "      <td>16969.0</td>\n",
       "      <td>33.0</td>\n",
       "      <td>69.0</td>\n",
       "      <td>NaN</td>\n",
       "    </tr>\n",
       "    <tr>\n",
       "      <th>3</th>\n",
       "      <td>3</td>\n",
       "      <td>American Samoa</td>\n",
       "      <td>American Samoa</td>\n",
       "      <td>47392.0</td>\n",
       "      <td>10.4</td>\n",
       "      <td>0.0</td>\n",
       "      <td>1093.01</td>\n",
       "      <td>High</td>\n",
       "      <td>4/14/22</td>\n",
       "      <td>123210</td>\n",
       "      <td>259981.0</td>\n",
       "      <td>95.0</td>\n",
       "      <td>42156</td>\n",
       "      <td>89.0</td>\n",
       "      <td>8042.0</td>\n",
       "      <td>16969.0</td>\n",
       "      <td>33.0</td>\n",
       "      <td>69.0</td>\n",
       "      <td>NaN</td>\n",
       "    </tr>\n",
       "    <tr>\n",
       "      <th>4</th>\n",
       "      <td>4</td>\n",
       "      <td>American Samoa</td>\n",
       "      <td>American Samoa</td>\n",
       "      <td>47392.0</td>\n",
       "      <td>4.1</td>\n",
       "      <td>80.2</td>\n",
       "      <td>267.98</td>\n",
       "      <td>High</td>\n",
       "      <td>4/21/22</td>\n",
       "      <td>123210</td>\n",
       "      <td>259981.0</td>\n",
       "      <td>95.0</td>\n",
       "      <td>42156</td>\n",
       "      <td>89.0</td>\n",
       "      <td>8042.0</td>\n",
       "      <td>16969.0</td>\n",
       "      <td>33.0</td>\n",
       "      <td>69.0</td>\n",
       "      <td>NaN</td>\n",
       "    </tr>\n",
       "    <tr>\n",
       "      <th>5</th>\n",
       "      <td>5</td>\n",
       "      <td>American Samoa</td>\n",
       "      <td>American Samoa</td>\n",
       "      <td>47392.0</td>\n",
       "      <td>4.7</td>\n",
       "      <td>10.6</td>\n",
       "      <td>324.95</td>\n",
       "      <td>High</td>\n",
       "      <td>4/28/22</td>\n",
       "      <td>123210</td>\n",
       "      <td>259981.0</td>\n",
       "      <td>95.0</td>\n",
       "      <td>42156</td>\n",
       "      <td>89.0</td>\n",
       "      <td>8042.0</td>\n",
       "      <td>16969.0</td>\n",
       "      <td>33.0</td>\n",
       "      <td>69.0</td>\n",
       "      <td>NaN</td>\n",
       "    </tr>\n",
       "    <tr>\n",
       "      <th>6</th>\n",
       "      <td>6</td>\n",
       "      <td>American Samoa</td>\n",
       "      <td>American Samoa</td>\n",
       "      <td>47392.0</td>\n",
       "      <td>2.1</td>\n",
       "      <td>2.1</td>\n",
       "      <td>118.16</td>\n",
       "      <td>Low</td>\n",
       "      <td>5/5/22</td>\n",
       "      <td>123210</td>\n",
       "      <td>259981.0</td>\n",
       "      <td>95.0</td>\n",
       "      <td>42156</td>\n",
       "      <td>89.0</td>\n",
       "      <td>8042.0</td>\n",
       "      <td>16969.0</td>\n",
       "      <td>33.0</td>\n",
       "      <td>69.0</td>\n",
       "      <td>NaN</td>\n",
       "    </tr>\n",
       "    <tr>\n",
       "      <th>7</th>\n",
       "      <td>7</td>\n",
       "      <td>American Samoa</td>\n",
       "      <td>American Samoa</td>\n",
       "      <td>47392.0</td>\n",
       "      <td>1.8</td>\n",
       "      <td>0.0</td>\n",
       "      <td>248.99</td>\n",
       "      <td>Medium</td>\n",
       "      <td>5/12/22</td>\n",
       "      <td>123210</td>\n",
       "      <td>259981.0</td>\n",
       "      <td>95.0</td>\n",
       "      <td>42156</td>\n",
       "      <td>89.0</td>\n",
       "      <td>8042.0</td>\n",
       "      <td>16969.0</td>\n",
       "      <td>33.0</td>\n",
       "      <td>69.0</td>\n",
       "      <td>NaN</td>\n",
       "    </tr>\n",
       "    <tr>\n",
       "      <th>8</th>\n",
       "      <td>8</td>\n",
       "      <td>American Samoa</td>\n",
       "      <td>American Samoa</td>\n",
       "      <td>47392.0</td>\n",
       "      <td>2.8</td>\n",
       "      <td>19.0</td>\n",
       "      <td>3143.99</td>\n",
       "      <td>High</td>\n",
       "      <td>3/31/22</td>\n",
       "      <td>123210</td>\n",
       "      <td>259981.0</td>\n",
       "      <td>95.0</td>\n",
       "      <td>42156</td>\n",
       "      <td>89.0</td>\n",
       "      <td>8042.0</td>\n",
       "      <td>16969.0</td>\n",
       "      <td>33.0</td>\n",
       "      <td>69.0</td>\n",
       "      <td>NaN</td>\n",
       "    </tr>\n",
       "    <tr>\n",
       "      <th>9</th>\n",
       "      <td>9</td>\n",
       "      <td>American Samoa</td>\n",
       "      <td>American Samoa</td>\n",
       "      <td>47392.0</td>\n",
       "      <td>1.6</td>\n",
       "      <td>25.3</td>\n",
       "      <td>2561.61</td>\n",
       "      <td>high</td>\n",
       "      <td>3/24/22</td>\n",
       "      <td>123210</td>\n",
       "      <td>259981.0</td>\n",
       "      <td>95.0</td>\n",
       "      <td>42156</td>\n",
       "      <td>89.0</td>\n",
       "      <td>8042.0</td>\n",
       "      <td>16969.0</td>\n",
       "      <td>33.0</td>\n",
       "      <td>69.0</td>\n",
       "      <td>NaN</td>\n",
       "    </tr>\n",
       "    <tr>\n",
       "      <th>10</th>\n",
       "      <td>10</td>\n",
       "      <td>American Samoa</td>\n",
       "      <td>American Samoa</td>\n",
       "      <td>47392.0</td>\n",
       "      <td>15.2</td>\n",
       "      <td>48.5</td>\n",
       "      <td>3238.94</td>\n",
       "      <td>High</td>\n",
       "      <td>4/7/22</td>\n",
       "      <td>123210</td>\n",
       "      <td>259981.0</td>\n",
       "      <td>95.0</td>\n",
       "      <td>42156</td>\n",
       "      <td>89.0</td>\n",
       "      <td>8042.0</td>\n",
       "      <td>16969.0</td>\n",
       "      <td>33.0</td>\n",
       "      <td>69.0</td>\n",
       "      <td>NaN</td>\n",
       "    </tr>\n",
       "    <tr>\n",
       "      <th>11</th>\n",
       "      <td>11</td>\n",
       "      <td>American Samoa</td>\n",
       "      <td>American Samoa</td>\n",
       "      <td>55461.0</td>\n",
       "      <td>0.2</td>\n",
       "      <td>0.0</td>\n",
       "      <td>156.14</td>\n",
       "      <td>Low</td>\n",
       "      <td>5/19/22</td>\n",
       "      <td>123210</td>\n",
       "      <td>259981.0</td>\n",
       "      <td>95.0</td>\n",
       "      <td>42156</td>\n",
       "      <td>89.0</td>\n",
       "      <td>8042.0</td>\n",
       "      <td>16969.0</td>\n",
       "      <td>33.0</td>\n",
       "      <td>69.0</td>\n",
       "      <td>NaN</td>\n",
       "    </tr>\n",
       "    <tr>\n",
       "      <th>12</th>\n",
       "      <td>12</td>\n",
       "      <td>American Samoa</td>\n",
       "      <td>American Samoa</td>\n",
       "      <td>55461.0</td>\n",
       "      <td>NaN</td>\n",
       "      <td>NaN</td>\n",
       "      <td>94.95</td>\n",
       "      <td>NaN</td>\n",
       "      <td>5/26/22</td>\n",
       "      <td>123210</td>\n",
       "      <td>259981.0</td>\n",
       "      <td>95.0</td>\n",
       "      <td>42156</td>\n",
       "      <td>89.0</td>\n",
       "      <td>8042.0</td>\n",
       "      <td>16969.0</td>\n",
       "      <td>33.0</td>\n",
       "      <td>69.0</td>\n",
       "      <td>NaN</td>\n",
       "    </tr>\n",
       "    <tr>\n",
       "      <th>13</th>\n",
       "      <td>13</td>\n",
       "      <td>American Samoa</td>\n",
       "      <td>American Samoa</td>\n",
       "      <td>55461.0</td>\n",
       "      <td>0.7</td>\n",
       "      <td>5.4</td>\n",
       "      <td>173.02</td>\n",
       "      <td>Low</td>\n",
       "      <td>6/2/22</td>\n",
       "      <td>123210</td>\n",
       "      <td>259981.0</td>\n",
       "      <td>95.0</td>\n",
       "      <td>42156</td>\n",
       "      <td>89.0</td>\n",
       "      <td>8042.0</td>\n",
       "      <td>16969.0</td>\n",
       "      <td>33.0</td>\n",
       "      <td>69.0</td>\n",
       "      <td>NaN</td>\n",
       "    </tr>\n",
       "    <tr>\n",
       "      <th>14</th>\n",
       "      <td>14</td>\n",
       "      <td>American Samoa</td>\n",
       "      <td>American Samoa</td>\n",
       "      <td>55461.0</td>\n",
       "      <td>1.1</td>\n",
       "      <td>12.6</td>\n",
       "      <td>151.92</td>\n",
       "      <td>Medium</td>\n",
       "      <td>6/30/22</td>\n",
       "      <td>123210</td>\n",
       "      <td>259981.0</td>\n",
       "      <td>95.0</td>\n",
       "      <td>42156</td>\n",
       "      <td>89.0</td>\n",
       "      <td>8042.0</td>\n",
       "      <td>16969.0</td>\n",
       "      <td>33.0</td>\n",
       "      <td>69.0</td>\n",
       "      <td>NaN</td>\n",
       "    </tr>\n",
       "    <tr>\n",
       "      <th>15</th>\n",
       "      <td>15</td>\n",
       "      <td>American Samoa</td>\n",
       "      <td>American Samoa</td>\n",
       "      <td>55461.0</td>\n",
       "      <td>0.3</td>\n",
       "      <td>3.6</td>\n",
       "      <td>0.00</td>\n",
       "      <td>Low</td>\n",
       "      <td>6/9/22</td>\n",
       "      <td>123210</td>\n",
       "      <td>259981.0</td>\n",
       "      <td>95.0</td>\n",
       "      <td>42156</td>\n",
       "      <td>89.0</td>\n",
       "      <td>8042.0</td>\n",
       "      <td>16969.0</td>\n",
       "      <td>33.0</td>\n",
       "      <td>69.0</td>\n",
       "      <td>NaN</td>\n",
       "    </tr>\n",
       "    <tr>\n",
       "      <th>16</th>\n",
       "      <td>16</td>\n",
       "      <td>American Samoa</td>\n",
       "      <td>American Samoa</td>\n",
       "      <td>55461.0</td>\n",
       "      <td>1.0</td>\n",
       "      <td>5.4</td>\n",
       "      <td>164.58</td>\n",
       "      <td>Low</td>\n",
       "      <td>6/16/22</td>\n",
       "      <td>123210</td>\n",
       "      <td>259981.0</td>\n",
       "      <td>95.0</td>\n",
       "      <td>42156</td>\n",
       "      <td>89.0</td>\n",
       "      <td>8042.0</td>\n",
       "      <td>16969.0</td>\n",
       "      <td>33.0</td>\n",
       "      <td>69.0</td>\n",
       "      <td>NaN</td>\n",
       "    </tr>\n",
       "    <tr>\n",
       "      <th>17</th>\n",
       "      <td>17</td>\n",
       "      <td>American Samoa</td>\n",
       "      <td>American Samoa</td>\n",
       "      <td>55461.0</td>\n",
       "      <td>3.4</td>\n",
       "      <td>10.8</td>\n",
       "      <td>0.00</td>\n",
       "      <td>Medium</td>\n",
       "      <td>7/28/22</td>\n",
       "      <td>123210</td>\n",
       "      <td>259981.0</td>\n",
       "      <td>95.0</td>\n",
       "      <td>42156</td>\n",
       "      <td>89.0</td>\n",
       "      <td>8042.0</td>\n",
       "      <td>16969.0</td>\n",
       "      <td>33.0</td>\n",
       "      <td>69.0</td>\n",
       "      <td>NaN</td>\n",
       "    </tr>\n",
       "    <tr>\n",
       "      <th>18</th>\n",
       "      <td>18</td>\n",
       "      <td>American Samoa</td>\n",
       "      <td>American Samoa</td>\n",
       "      <td>55461.0</td>\n",
       "      <td>1.1</td>\n",
       "      <td>7.2</td>\n",
       "      <td>151.92</td>\n",
       "      <td>Low</td>\n",
       "      <td>6/23/22</td>\n",
       "      <td>123210</td>\n",
       "      <td>259981.0</td>\n",
       "      <td>95.0</td>\n",
       "      <td>42156</td>\n",
       "      <td>89.0</td>\n",
       "      <td>8042.0</td>\n",
       "      <td>16969.0</td>\n",
       "      <td>33.0</td>\n",
       "      <td>69.0</td>\n",
       "      <td>NaN</td>\n",
       "    </tr>\n",
       "    <tr>\n",
       "      <th>19</th>\n",
       "      <td>19</td>\n",
       "      <td>American Samoa</td>\n",
       "      <td>American Samoa</td>\n",
       "      <td>55461.0</td>\n",
       "      <td>3.2</td>\n",
       "      <td>43.3</td>\n",
       "      <td>192.02</td>\n",
       "      <td>High</td>\n",
       "      <td>7/7/22</td>\n",
       "      <td>123210</td>\n",
       "      <td>259981.0</td>\n",
       "      <td>95.0</td>\n",
       "      <td>42156</td>\n",
       "      <td>89.0</td>\n",
       "      <td>8042.0</td>\n",
       "      <td>16969.0</td>\n",
       "      <td>33.0</td>\n",
       "      <td>69.0</td>\n",
       "      <td>NaN</td>\n",
       "    </tr>\n",
       "  </tbody>\n",
       "</table>\n",
       "</div>"
      ],
      "text/plain": [
       "    Unnamed: 0          county           state  county_population  \\\n",
       "0            0  American Samoa  American Samoa            47392.0   \n",
       "1            1  American Samoa  American Samoa            47392.0   \n",
       "2            2  American Samoa  American Samoa            47392.0   \n",
       "3            3  American Samoa  American Samoa            47392.0   \n",
       "4            4  American Samoa  American Samoa            47392.0   \n",
       "5            5  American Samoa  American Samoa            47392.0   \n",
       "6            6  American Samoa  American Samoa            47392.0   \n",
       "7            7  American Samoa  American Samoa            47392.0   \n",
       "8            8  American Samoa  American Samoa            47392.0   \n",
       "9            9  American Samoa  American Samoa            47392.0   \n",
       "10          10  American Samoa  American Samoa            47392.0   \n",
       "11          11  American Samoa  American Samoa            55461.0   \n",
       "12          12  American Samoa  American Samoa            55461.0   \n",
       "13          13  American Samoa  American Samoa            55461.0   \n",
       "14          14  American Samoa  American Samoa            55461.0   \n",
       "15          15  American Samoa  American Samoa            55461.0   \n",
       "16          16  American Samoa  American Samoa            55461.0   \n",
       "17          17  American Samoa  American Samoa            55461.0   \n",
       "18          18  American Samoa  American Samoa            55461.0   \n",
       "19          19  American Samoa  American Samoa            55461.0   \n",
       "\n",
       "    covid_inpatient_bed_utilization  covid_hospital_admissions_per_100k  \\\n",
       "0                               0.0                                 2.1   \n",
       "1                               0.9                                19.0   \n",
       "2                               1.0                                 6.3   \n",
       "3                              10.4                                 0.0   \n",
       "4                               4.1                                80.2   \n",
       "5                               4.7                                10.6   \n",
       "6                               2.1                                 2.1   \n",
       "7                               1.8                                 0.0   \n",
       "8                               2.8                                19.0   \n",
       "9                               1.6                                25.3   \n",
       "10                             15.2                                48.5   \n",
       "11                              0.2                                 0.0   \n",
       "12                              NaN                                 NaN   \n",
       "13                              0.7                                 5.4   \n",
       "14                              1.1                                12.6   \n",
       "15                              0.3                                 3.6   \n",
       "16                              1.0                                 5.4   \n",
       "17                              3.4                                10.8   \n",
       "18                              1.1                                 7.2   \n",
       "19                              3.2                                43.3   \n",
       "\n",
       "    covid_cases_per_100k covid-19_community_level date_updated  \\\n",
       "0                 156.14                      Low       3/3/22   \n",
       "1                 434.67                     High      3/10/22   \n",
       "2                 901.00                   Medium      3/17/22   \n",
       "3                1093.01                     High      4/14/22   \n",
       "4                 267.98                     High      4/21/22   \n",
       "5                 324.95                     High      4/28/22   \n",
       "6                 118.16                      Low       5/5/22   \n",
       "7                 248.99                   Medium      5/12/22   \n",
       "8                3143.99                     High      3/31/22   \n",
       "9                2561.61                     high      3/24/22   \n",
       "10               3238.94                     High       4/7/22   \n",
       "11                156.14                      Low      5/19/22   \n",
       "12                 94.95                      NaN      5/26/22   \n",
       "13                173.02                      Low       6/2/22   \n",
       "14                151.92                   Medium      6/30/22   \n",
       "15                  0.00                      Low       6/9/22   \n",
       "16                164.58                      Low      6/16/22   \n",
       "17                  0.00                   Medium      7/28/22   \n",
       "18                151.92                      Low      6/23/22   \n",
       "19                192.02                     High       7/7/22   \n",
       "\n",
       "    total_doses_given  doses_per_100k  percent_with_at_least_one_dose  \\\n",
       "0              123210        259981.0                            95.0   \n",
       "1              123210        259981.0                            95.0   \n",
       "2              123210        259981.0                            95.0   \n",
       "3              123210        259981.0                            95.0   \n",
       "4              123210        259981.0                            95.0   \n",
       "5              123210        259981.0                            95.0   \n",
       "6              123210        259981.0                            95.0   \n",
       "7              123210        259981.0                            95.0   \n",
       "8              123210        259981.0                            95.0   \n",
       "9              123210        259981.0                            95.0   \n",
       "10             123210        259981.0                            95.0   \n",
       "11             123210        259981.0                            95.0   \n",
       "12             123210        259981.0                            95.0   \n",
       "13             123210        259981.0                            95.0   \n",
       "14             123210        259981.0                            95.0   \n",
       "15             123210        259981.0                            95.0   \n",
       "16             123210        259981.0                            95.0   \n",
       "17             123210        259981.0                            95.0   \n",
       "18             123210        259981.0                            95.0   \n",
       "19             123210        259981.0                            95.0   \n",
       "\n",
       "    people_fully_vaccinated  percent_fully_vaccinated  total_cases  \\\n",
       "0                     42156                      89.0       8042.0   \n",
       "1                     42156                      89.0       8042.0   \n",
       "2                     42156                      89.0       8042.0   \n",
       "3                     42156                      89.0       8042.0   \n",
       "4                     42156                      89.0       8042.0   \n",
       "5                     42156                      89.0       8042.0   \n",
       "6                     42156                      89.0       8042.0   \n",
       "7                     42156                      89.0       8042.0   \n",
       "8                     42156                      89.0       8042.0   \n",
       "9                     42156                      89.0       8042.0   \n",
       "10                    42156                      89.0       8042.0   \n",
       "11                    42156                      89.0       8042.0   \n",
       "12                    42156                      89.0       8042.0   \n",
       "13                    42156                      89.0       8042.0   \n",
       "14                    42156                      89.0       8042.0   \n",
       "15                    42156                      89.0       8042.0   \n",
       "16                    42156                      89.0       8042.0   \n",
       "17                    42156                      89.0       8042.0   \n",
       "18                    42156                      89.0       8042.0   \n",
       "19                    42156                      89.0       8042.0   \n",
       "\n",
       "    case_rate_per_100k  total_deaths  death_rate_per_100k  \\\n",
       "0              16969.0          33.0                 69.0   \n",
       "1              16969.0          33.0                 69.0   \n",
       "2              16969.0          33.0                 69.0   \n",
       "3              16969.0          33.0                 69.0   \n",
       "4              16969.0          33.0                 69.0   \n",
       "5              16969.0          33.0                 69.0   \n",
       "6              16969.0          33.0                 69.0   \n",
       "7              16969.0          33.0                 69.0   \n",
       "8              16969.0          33.0                 69.0   \n",
       "9              16969.0          33.0                 69.0   \n",
       "10             16969.0          33.0                 69.0   \n",
       "11             16969.0          33.0                 69.0   \n",
       "12             16969.0          33.0                 69.0   \n",
       "13             16969.0          33.0                 69.0   \n",
       "14             16969.0          33.0                 69.0   \n",
       "15             16969.0          33.0                 69.0   \n",
       "16             16969.0          33.0                 69.0   \n",
       "17             16969.0          33.0                 69.0   \n",
       "18             16969.0          33.0                 69.0   \n",
       "19             16969.0          33.0                 69.0   \n",
       "\n",
       "   total_percent_positive  \n",
       "0                     NaN  \n",
       "1                     NaN  \n",
       "2                     NaN  \n",
       "3                     NaN  \n",
       "4                     NaN  \n",
       "5                     NaN  \n",
       "6                     NaN  \n",
       "7                     NaN  \n",
       "8                     NaN  \n",
       "9                     NaN  \n",
       "10                    NaN  \n",
       "11                    NaN  \n",
       "12                    NaN  \n",
       "13                    NaN  \n",
       "14                    NaN  \n",
       "15                    NaN  \n",
       "16                    NaN  \n",
       "17                    NaN  \n",
       "18                    NaN  \n",
       "19                    NaN  "
      ]
     },
     "execution_count": 6,
     "metadata": {},
     "output_type": "execute_result"
    }
   ],
   "source": [
    "df.head(20)"
   ]
  },
  {
   "cell_type": "code",
   "execution_count": 7,
   "id": "00b9072b",
   "metadata": {},
   "outputs": [
    {
     "data": {
      "text/html": [
       "<div>\n",
       "<style scoped>\n",
       "    .dataframe tbody tr th:only-of-type {\n",
       "        vertical-align: middle;\n",
       "    }\n",
       "\n",
       "    .dataframe tbody tr th {\n",
       "        vertical-align: top;\n",
       "    }\n",
       "\n",
       "    .dataframe thead th {\n",
       "        text-align: right;\n",
       "    }\n",
       "</style>\n",
       "<table border=\"1\" class=\"dataframe\">\n",
       "  <thead>\n",
       "    <tr style=\"text-align: right;\">\n",
       "      <th></th>\n",
       "      <th>county</th>\n",
       "      <th>state</th>\n",
       "      <th>county_population</th>\n",
       "      <th>covid_inpatient_bed_utilization</th>\n",
       "      <th>covid_hospital_admissions_per_100k</th>\n",
       "      <th>covid_cases_per_100k</th>\n",
       "      <th>covid-19_community_level</th>\n",
       "      <th>date_updated</th>\n",
       "      <th>total_doses_given</th>\n",
       "      <th>doses_per_100k</th>\n",
       "      <th>percent_with_at_least_one_dose</th>\n",
       "      <th>people_fully_vaccinated</th>\n",
       "      <th>percent_fully_vaccinated</th>\n",
       "      <th>total_cases</th>\n",
       "      <th>case_rate_per_100k</th>\n",
       "      <th>total_deaths</th>\n",
       "      <th>death_rate_per_100k</th>\n",
       "      <th>total_percent_positive</th>\n",
       "    </tr>\n",
       "  </thead>\n",
       "  <tbody>\n",
       "    <tr>\n",
       "      <th>0</th>\n",
       "      <td>American Samoa</td>\n",
       "      <td>American Samoa</td>\n",
       "      <td>47392.0</td>\n",
       "      <td>0.0</td>\n",
       "      <td>2.1</td>\n",
       "      <td>156.14</td>\n",
       "      <td>Low</td>\n",
       "      <td>3/3/22</td>\n",
       "      <td>123210</td>\n",
       "      <td>259981.0</td>\n",
       "      <td>95.0</td>\n",
       "      <td>42156</td>\n",
       "      <td>89.0</td>\n",
       "      <td>8042.0</td>\n",
       "      <td>16969.0</td>\n",
       "      <td>33.0</td>\n",
       "      <td>69.0</td>\n",
       "      <td>NaN</td>\n",
       "    </tr>\n",
       "    <tr>\n",
       "      <th>1</th>\n",
       "      <td>American Samoa</td>\n",
       "      <td>American Samoa</td>\n",
       "      <td>47392.0</td>\n",
       "      <td>0.9</td>\n",
       "      <td>19.0</td>\n",
       "      <td>434.67</td>\n",
       "      <td>High</td>\n",
       "      <td>3/10/22</td>\n",
       "      <td>123210</td>\n",
       "      <td>259981.0</td>\n",
       "      <td>95.0</td>\n",
       "      <td>42156</td>\n",
       "      <td>89.0</td>\n",
       "      <td>8042.0</td>\n",
       "      <td>16969.0</td>\n",
       "      <td>33.0</td>\n",
       "      <td>69.0</td>\n",
       "      <td>NaN</td>\n",
       "    </tr>\n",
       "    <tr>\n",
       "      <th>2</th>\n",
       "      <td>American Samoa</td>\n",
       "      <td>American Samoa</td>\n",
       "      <td>47392.0</td>\n",
       "      <td>1.0</td>\n",
       "      <td>6.3</td>\n",
       "      <td>901.00</td>\n",
       "      <td>Medium</td>\n",
       "      <td>3/17/22</td>\n",
       "      <td>123210</td>\n",
       "      <td>259981.0</td>\n",
       "      <td>95.0</td>\n",
       "      <td>42156</td>\n",
       "      <td>89.0</td>\n",
       "      <td>8042.0</td>\n",
       "      <td>16969.0</td>\n",
       "      <td>33.0</td>\n",
       "      <td>69.0</td>\n",
       "      <td>NaN</td>\n",
       "    </tr>\n",
       "    <tr>\n",
       "      <th>3</th>\n",
       "      <td>American Samoa</td>\n",
       "      <td>American Samoa</td>\n",
       "      <td>47392.0</td>\n",
       "      <td>10.4</td>\n",
       "      <td>0.0</td>\n",
       "      <td>1093.01</td>\n",
       "      <td>High</td>\n",
       "      <td>4/14/22</td>\n",
       "      <td>123210</td>\n",
       "      <td>259981.0</td>\n",
       "      <td>95.0</td>\n",
       "      <td>42156</td>\n",
       "      <td>89.0</td>\n",
       "      <td>8042.0</td>\n",
       "      <td>16969.0</td>\n",
       "      <td>33.0</td>\n",
       "      <td>69.0</td>\n",
       "      <td>NaN</td>\n",
       "    </tr>\n",
       "    <tr>\n",
       "      <th>4</th>\n",
       "      <td>American Samoa</td>\n",
       "      <td>American Samoa</td>\n",
       "      <td>47392.0</td>\n",
       "      <td>4.1</td>\n",
       "      <td>80.2</td>\n",
       "      <td>267.98</td>\n",
       "      <td>High</td>\n",
       "      <td>4/21/22</td>\n",
       "      <td>123210</td>\n",
       "      <td>259981.0</td>\n",
       "      <td>95.0</td>\n",
       "      <td>42156</td>\n",
       "      <td>89.0</td>\n",
       "      <td>8042.0</td>\n",
       "      <td>16969.0</td>\n",
       "      <td>33.0</td>\n",
       "      <td>69.0</td>\n",
       "      <td>NaN</td>\n",
       "    </tr>\n",
       "    <tr>\n",
       "      <th>...</th>\n",
       "      <td>...</td>\n",
       "      <td>...</td>\n",
       "      <td>...</td>\n",
       "      <td>...</td>\n",
       "      <td>...</td>\n",
       "      <td>...</td>\n",
       "      <td>...</td>\n",
       "      <td>...</td>\n",
       "      <td>...</td>\n",
       "      <td>...</td>\n",
       "      <td>...</td>\n",
       "      <td>...</td>\n",
       "      <td>...</td>\n",
       "      <td>...</td>\n",
       "      <td>...</td>\n",
       "      <td>...</td>\n",
       "      <td>...</td>\n",
       "      <td>...</td>\n",
       "    </tr>\n",
       "    <tr>\n",
       "      <th>78997</th>\n",
       "      <td>Matanuska-Susitna Borough</td>\n",
       "      <td>Alaska</td>\n",
       "      <td>108317.0</td>\n",
       "      <td>4.5</td>\n",
       "      <td>13.0</td>\n",
       "      <td>198.49</td>\n",
       "      <td>Medium</td>\n",
       "      <td>8/11/22</td>\n",
       "      <td>1732765</td>\n",
       "      <td>236864.0</td>\n",
       "      <td>71.3</td>\n",
       "      <td>462264</td>\n",
       "      <td>63.2</td>\n",
       "      <td>275542.0</td>\n",
       "      <td>37666.0</td>\n",
       "      <td>1296.0</td>\n",
       "      <td>177.0</td>\n",
       "      <td>5-7.9%</td>\n",
       "    </tr>\n",
       "    <tr>\n",
       "      <th>78998</th>\n",
       "      <td>Nome CA</td>\n",
       "      <td>Alaska</td>\n",
       "      <td>10004.0</td>\n",
       "      <td>4.5</td>\n",
       "      <td>13.0</td>\n",
       "      <td>349.86</td>\n",
       "      <td>High</td>\n",
       "      <td>8/11/22</td>\n",
       "      <td>1732765</td>\n",
       "      <td>236864.0</td>\n",
       "      <td>71.3</td>\n",
       "      <td>462264</td>\n",
       "      <td>63.2</td>\n",
       "      <td>275542.0</td>\n",
       "      <td>37666.0</td>\n",
       "      <td>1296.0</td>\n",
       "      <td>177.0</td>\n",
       "      <td>5-7.9%</td>\n",
       "    </tr>\n",
       "    <tr>\n",
       "      <th>78999</th>\n",
       "      <td>North Slope Borough</td>\n",
       "      <td>Alaska</td>\n",
       "      <td>9832.0</td>\n",
       "      <td>4.5</td>\n",
       "      <td>13.0</td>\n",
       "      <td>284.78</td>\n",
       "      <td>High</td>\n",
       "      <td>8/11/22</td>\n",
       "      <td>1732765</td>\n",
       "      <td>236864.0</td>\n",
       "      <td>71.3</td>\n",
       "      <td>462264</td>\n",
       "      <td>63.2</td>\n",
       "      <td>275542.0</td>\n",
       "      <td>37666.0</td>\n",
       "      <td>1296.0</td>\n",
       "      <td>177.0</td>\n",
       "      <td>5-7.9%</td>\n",
       "    </tr>\n",
       "    <tr>\n",
       "      <th>79000</th>\n",
       "      <td>Prince of Wales-Hyder CA</td>\n",
       "      <td>Alaska</td>\n",
       "      <td>6203.0</td>\n",
       "      <td>0.0</td>\n",
       "      <td>0.0</td>\n",
       "      <td>96.73</td>\n",
       "      <td>Low</td>\n",
       "      <td>8/11/22</td>\n",
       "      <td>1732765</td>\n",
       "      <td>236864.0</td>\n",
       "      <td>71.3</td>\n",
       "      <td>462264</td>\n",
       "      <td>63.2</td>\n",
       "      <td>275542.0</td>\n",
       "      <td>37666.0</td>\n",
       "      <td>1296.0</td>\n",
       "      <td>177.0</td>\n",
       "      <td>5-7.9%</td>\n",
       "    </tr>\n",
       "    <tr>\n",
       "      <th>79001</th>\n",
       "      <td>Valdez-Cordova Census Area</td>\n",
       "      <td>Alaska</td>\n",
       "      <td>9202.0</td>\n",
       "      <td>4.5</td>\n",
       "      <td>13.0</td>\n",
       "      <td>282.55</td>\n",
       "      <td>High</td>\n",
       "      <td>8/11/22</td>\n",
       "      <td>1732765</td>\n",
       "      <td>236864.0</td>\n",
       "      <td>71.3</td>\n",
       "      <td>462264</td>\n",
       "      <td>63.2</td>\n",
       "      <td>275542.0</td>\n",
       "      <td>37666.0</td>\n",
       "      <td>1296.0</td>\n",
       "      <td>177.0</td>\n",
       "      <td>5-7.9%</td>\n",
       "    </tr>\n",
       "  </tbody>\n",
       "</table>\n",
       "<p>79002 rows × 18 columns</p>\n",
       "</div>"
      ],
      "text/plain": [
       "                           county           state  county_population  \\\n",
       "0                  American Samoa  American Samoa            47392.0   \n",
       "1                  American Samoa  American Samoa            47392.0   \n",
       "2                  American Samoa  American Samoa            47392.0   \n",
       "3                  American Samoa  American Samoa            47392.0   \n",
       "4                  American Samoa  American Samoa            47392.0   \n",
       "...                           ...             ...                ...   \n",
       "78997   Matanuska-Susitna Borough          Alaska           108317.0   \n",
       "78998                     Nome CA          Alaska            10004.0   \n",
       "78999         North Slope Borough          Alaska             9832.0   \n",
       "79000    Prince of Wales-Hyder CA          Alaska             6203.0   \n",
       "79001  Valdez-Cordova Census Area          Alaska             9202.0   \n",
       "\n",
       "       covid_inpatient_bed_utilization  covid_hospital_admissions_per_100k  \\\n",
       "0                                  0.0                                 2.1   \n",
       "1                                  0.9                                19.0   \n",
       "2                                  1.0                                 6.3   \n",
       "3                                 10.4                                 0.0   \n",
       "4                                  4.1                                80.2   \n",
       "...                                ...                                 ...   \n",
       "78997                              4.5                                13.0   \n",
       "78998                              4.5                                13.0   \n",
       "78999                              4.5                                13.0   \n",
       "79000                              0.0                                 0.0   \n",
       "79001                              4.5                                13.0   \n",
       "\n",
       "       covid_cases_per_100k covid-19_community_level date_updated  \\\n",
       "0                    156.14                      Low       3/3/22   \n",
       "1                    434.67                     High      3/10/22   \n",
       "2                    901.00                   Medium      3/17/22   \n",
       "3                   1093.01                     High      4/14/22   \n",
       "4                    267.98                     High      4/21/22   \n",
       "...                     ...                      ...          ...   \n",
       "78997                198.49                   Medium      8/11/22   \n",
       "78998                349.86                     High      8/11/22   \n",
       "78999                284.78                     High      8/11/22   \n",
       "79000                 96.73                      Low      8/11/22   \n",
       "79001                282.55                     High      8/11/22   \n",
       "\n",
       "       total_doses_given  doses_per_100k  percent_with_at_least_one_dose  \\\n",
       "0                 123210        259981.0                            95.0   \n",
       "1                 123210        259981.0                            95.0   \n",
       "2                 123210        259981.0                            95.0   \n",
       "3                 123210        259981.0                            95.0   \n",
       "4                 123210        259981.0                            95.0   \n",
       "...                  ...             ...                             ...   \n",
       "78997            1732765        236864.0                            71.3   \n",
       "78998            1732765        236864.0                            71.3   \n",
       "78999            1732765        236864.0                            71.3   \n",
       "79000            1732765        236864.0                            71.3   \n",
       "79001            1732765        236864.0                            71.3   \n",
       "\n",
       "       people_fully_vaccinated  percent_fully_vaccinated  total_cases  \\\n",
       "0                        42156                      89.0       8042.0   \n",
       "1                        42156                      89.0       8042.0   \n",
       "2                        42156                      89.0       8042.0   \n",
       "3                        42156                      89.0       8042.0   \n",
       "4                        42156                      89.0       8042.0   \n",
       "...                        ...                       ...          ...   \n",
       "78997                   462264                      63.2     275542.0   \n",
       "78998                   462264                      63.2     275542.0   \n",
       "78999                   462264                      63.2     275542.0   \n",
       "79000                   462264                      63.2     275542.0   \n",
       "79001                   462264                      63.2     275542.0   \n",
       "\n",
       "       case_rate_per_100k  total_deaths  death_rate_per_100k  \\\n",
       "0                 16969.0          33.0                 69.0   \n",
       "1                 16969.0          33.0                 69.0   \n",
       "2                 16969.0          33.0                 69.0   \n",
       "3                 16969.0          33.0                 69.0   \n",
       "4                 16969.0          33.0                 69.0   \n",
       "...                   ...           ...                  ...   \n",
       "78997             37666.0        1296.0                177.0   \n",
       "78998             37666.0        1296.0                177.0   \n",
       "78999             37666.0        1296.0                177.0   \n",
       "79000             37666.0        1296.0                177.0   \n",
       "79001             37666.0        1296.0                177.0   \n",
       "\n",
       "      total_percent_positive  \n",
       "0                        NaN  \n",
       "1                        NaN  \n",
       "2                        NaN  \n",
       "3                        NaN  \n",
       "4                        NaN  \n",
       "...                      ...  \n",
       "78997                 5-7.9%  \n",
       "78998                 5-7.9%  \n",
       "78999                 5-7.9%  \n",
       "79000                 5-7.9%  \n",
       "79001                 5-7.9%  \n",
       "\n",
       "[79002 rows x 18 columns]"
      ]
     },
     "execution_count": 7,
     "metadata": {},
     "output_type": "execute_result"
    }
   ],
   "source": [
    "df.drop(['Unnamed: 0'], axis=1)"
   ]
  },
  {
   "cell_type": "code",
   "execution_count": 8,
   "id": "229889f4",
   "metadata": {},
   "outputs": [
    {
     "data": {
      "text/plain": [
       "Unnamed: 0                               0\n",
       "county                                   0\n",
       "state                                    0\n",
       "county_population                        4\n",
       "covid_inpatient_bed_utilization        140\n",
       "covid_hospital_admissions_per_100k      27\n",
       "covid_cases_per_100k                     0\n",
       "covid-19_community_level                24\n",
       "date_updated                             0\n",
       "total_doses_given                        0\n",
       "doses_per_100k                           0\n",
       "percent_with_at_least_one_dose           0\n",
       "people_fully_vaccinated                  0\n",
       "percent_fully_vaccinated                 0\n",
       "total_cases                              0\n",
       "case_rate_per_100k                       0\n",
       "total_deaths                             0\n",
       "death_rate_per_100k                      0\n",
       "total_percent_positive                9599\n",
       "dtype: int64"
      ]
     },
     "execution_count": 8,
     "metadata": {},
     "output_type": "execute_result"
    }
   ],
   "source": [
    "# check for missing values\n",
    "\n",
    "df.isnull().sum()"
   ]
  },
  {
   "cell_type": "markdown",
   "id": "be6151f1",
   "metadata": {},
   "source": [
    "Not planning on using columns with missing values for analysis, can disregard."
   ]
  },
  {
   "cell_type": "code",
   "execution_count": 9,
   "id": "636a055c",
   "metadata": {},
   "outputs": [],
   "source": [
    "# check for duplicate values\n",
    "\n",
    "dups = df.duplicated()"
   ]
  },
  {
   "cell_type": "code",
   "execution_count": 10,
   "id": "3df56963",
   "metadata": {},
   "outputs": [
    {
     "data": {
      "text/plain": [
       "(79002,)"
      ]
     },
     "execution_count": 10,
     "metadata": {},
     "output_type": "execute_result"
    }
   ],
   "source": [
    "dups.shape"
   ]
  },
  {
   "cell_type": "markdown",
   "id": "281be747",
   "metadata": {},
   "source": [
    "no duplicates"
   ]
  },
  {
   "cell_type": "code",
   "execution_count": 11,
   "id": "c2476be5",
   "metadata": {},
   "outputs": [
    {
     "name": "stderr",
     "output_type": "stream",
     "text": [
      "/Users/martyna/opt/anaconda3/lib/python3.9/site-packages/seaborn/distributions.py:2619: FutureWarning: `distplot` is a deprecated function and will be removed in a future version. Please adapt your code to use either `displot` (a figure-level function with similar flexibility) or `histplot` (an axes-level function for histograms).\n",
      "  warnings.warn(msg, FutureWarning)\n"
     ]
    },
    {
     "data": {
      "text/plain": [
       "<AxesSubplot:xlabel='death_rate_per_100k', ylabel='Density'>"
      ]
     },
     "execution_count": 11,
     "metadata": {},
     "output_type": "execute_result"
    },
    {
     "data": {
      "image/png": "[encoded data removed]",
      "text/plain": [
       "<Figure size 432x288 with 1 Axes>"
      ]
     },
     "metadata": {
      "needs_background": "light"
     },
     "output_type": "display_data"
    }
   ],
   "source": [
    "# check for extreme values\n",
    "\n",
    "sns.distplot(df['death_rate_per_100k'], bins=25) "
   ]
  },
  {
   "cell_type": "code",
   "execution_count": 12,
   "id": "7f425889",
   "metadata": {},
   "outputs": [
    {
     "data": {
      "text/plain": [
       "313.61340219234955"
      ]
     },
     "execution_count": 12,
     "metadata": {},
     "output_type": "execute_result"
    }
   ],
   "source": [
    "# check the mean\n",
    "\n",
    "df['death_rate_per_100k'].mean() "
   ]
  },
  {
   "cell_type": "code",
   "execution_count": 13,
   "id": "be2213a5",
   "metadata": {},
   "outputs": [
    {
     "data": {
      "text/plain": [
       "322.0"
      ]
     },
     "execution_count": 13,
     "metadata": {},
     "output_type": "execute_result"
    }
   ],
   "source": [
    "# check the median\n",
    "\n",
    "df['death_rate_per_100k'].median() "
   ]
  },
  {
   "cell_type": "code",
   "execution_count": 14,
   "id": "9614c0c3",
   "metadata": {},
   "outputs": [
    {
     "data": {
      "text/plain": [
       "427.0"
      ]
     },
     "execution_count": 14,
     "metadata": {},
     "output_type": "execute_result"
    }
   ],
   "source": [
    "# check the max\n",
    "\n",
    "df['death_rate_per_100k'].max()"
   ]
  },
  {
   "cell_type": "markdown",
   "id": "956a9bc4",
   "metadata": {},
   "source": [
    "# Data preparation for regression analysis"
   ]
  },
  {
   "cell_type": "markdown",
   "id": "6e02be53",
   "metadata": {},
   "source": [
    "### Doses per 100k vs Death Rate per 100k"
   ]
  },
  {
   "cell_type": "code",
   "execution_count": 15,
   "id": "526a52ed",
   "metadata": {},
   "outputs": [
    {
     "data": {
      "image/png": "[encoded data removed]",
      "text/plain": [
       "<Figure size 432x288 with 1 Axes>"
      ]
     },
     "metadata": {
      "needs_background": "light"
     },
     "output_type": "display_data"
    }
   ],
   "source": [
    "# create a scatterplot using matplotlib for another look at how the chosen variables plot against each other\n",
    "\n",
    "df.plot(x = 'doses_per_100k', y='death_rate_per_100k',style='o')\n",
    "plt.title('Vaccine Doses per 100k vs Death Rate per 100k')  \n",
    "plt.xlabel('Vaccine Doses per 100k')  \n",
    "plt.ylabel('Death Rate per 100k')  \n",
    "plt.show()"
   ]
  },
  {
   "cell_type": "markdown",
   "id": "6fc46b89",
   "metadata": {},
   "source": [
    "#### Hypothesis: The higher the vaccination rate, the lower the death rate"
   ]
  },
  {
   "cell_type": "markdown",
   "id": "9bf448f8",
   "metadata": {},
   "source": [
    "### Doses per 100k vs COVID-19 Cases per 100k"
   ]
  },
  {
   "cell_type": "code",
   "execution_count": 16,
   "id": "5b369a33",
   "metadata": {},
   "outputs": [
    {
     "data": {
      "image/png": "[encoded data removed]",
      "text/plain": [
       "<Figure size 432x288 with 1 Axes>"
      ]
     },
     "metadata": {
      "needs_background": "light"
     },
     "output_type": "display_data"
    }
   ],
   "source": [
    "df.plot(x = 'doses_per_100k', y='covid_cases_per_100k',style='o')\n",
    "plt.title('Vaccine Doses per 100k vs COVID-19 Cases per 100k')  \n",
    "plt.xlabel('Vaccine Doses per 100k')  \n",
    "plt.ylabel('COVID-19 Cases per 100k')  \n",
    "plt.show()"
   ]
  },
  {
   "cell_type": "markdown",
   "id": "785b9fa9",
   "metadata": {},
   "source": [
    "### Doses per 100k vs Case Rate per 100k"
   ]
  },
  {
   "cell_type": "code",
   "execution_count": 17,
   "id": "d695a8eb",
   "metadata": {},
   "outputs": [
    {
     "data": {
      "image/png": "[encoded data removed]",
      "text/plain": [
       "<Figure size 432x288 with 1 Axes>"
      ]
     },
     "metadata": {
      "needs_background": "light"
     },
     "output_type": "display_data"
    }
   ],
   "source": [
    "df.plot(x = 'doses_per_100k', y='case_rate_per_100k',style='o')\n",
    "plt.title('Vaccine Doses per 100k vs COVID-19 Case Rate per 100k')  \n",
    "plt.xlabel('Vaccine Doses per 100k')  \n",
    "plt.ylabel('COVID-19 Case Rate per 100k')  \n",
    "plt.show()"
   ]
  },
  {
   "cell_type": "markdown",
   "id": "ca7c4b6b",
   "metadata": {},
   "source": [
    "#### Hypothesis: The higher the vaccination rate, the lower the case rate"
   ]
  },
  {
   "cell_type": "code",
   "execution_count": 18,
   "id": "bdd25d1a",
   "metadata": {},
   "outputs": [],
   "source": [
    "# reshape the variables into NumPy arrays and put them into separate objects\n",
    "\n",
    "X = df['doses_per_100k'].values.reshape(-1,1)\n",
    "y = df['death_rate_per_100k'].values.reshape(-1,1)"
   ]
  },
  {
   "cell_type": "code",
   "execution_count": 19,
   "id": "618d3184",
   "metadata": {},
   "outputs": [
    {
     "data": {
      "text/plain": [
       "array([[259981.],\n",
       "       [259981.],\n",
       "       [259981.],\n",
       "       ...,\n",
       "       [236864.],\n",
       "       [236864.],\n",
       "       [236864.]])"
      ]
     },
     "execution_count": 19,
     "metadata": {},
     "output_type": "execute_result"
    }
   ],
   "source": [
    "X"
   ]
  },
  {
   "cell_type": "code",
   "execution_count": 20,
   "id": "b064ff91",
   "metadata": {},
   "outputs": [
    {
     "data": {
      "text/plain": [
       "array([[ 69.],\n",
       "       [ 69.],\n",
       "       [ 69.],\n",
       "       ...,\n",
       "       [177.],\n",
       "       [177.],\n",
       "       [177.]])"
      ]
     },
     "execution_count": 20,
     "metadata": {},
     "output_type": "execute_result"
    }
   ],
   "source": [
    "y"
   ]
  },
  {
   "cell_type": "code",
   "execution_count": 21,
   "id": "418b9576",
   "metadata": {},
   "outputs": [],
   "source": [
    "# split data into a training set and a test set\n",
    "\n",
    "X_train, X_test, y_train, y_test = train_test_split(X, y, test_size=0.3, random_state=0)"
   ]
  },
  {
   "cell_type": "code",
   "execution_count": 22,
   "id": "5ada4cb5",
   "metadata": {},
   "outputs": [],
   "source": [
    "# reshape the variables into NumPy arrays and put them into separate objects\n",
    "\n",
    "X2 = df['doses_per_100k'].values.reshape(-1,1)\n",
    "y2 = df['case_rate_per_100k'].values.reshape(-1,1)"
   ]
  },
  {
   "cell_type": "code",
   "execution_count": 23,
   "id": "7de27c38",
   "metadata": {},
   "outputs": [
    {
     "data": {
      "text/plain": [
       "array([[259981.],\n",
       "       [259981.],\n",
       "       [259981.],\n",
       "       ...,\n",
       "       [236864.],\n",
       "       [236864.],\n",
       "       [236864.]])"
      ]
     },
     "execution_count": 23,
     "metadata": {},
     "output_type": "execute_result"
    }
   ],
   "source": [
    "X2"
   ]
  },
  {
   "cell_type": "code",
   "execution_count": 24,
   "id": "9aab026d",
   "metadata": {},
   "outputs": [
    {
     "data": {
      "text/plain": [
       "array([[16969.],\n",
       "       [16969.],\n",
       "       [16969.],\n",
       "       ...,\n",
       "       [37666.],\n",
       "       [37666.],\n",
       "       [37666.]])"
      ]
     },
     "execution_count": 24,
     "metadata": {},
     "output_type": "execute_result"
    }
   ],
   "source": [
    "y2"
   ]
  },
  {
   "cell_type": "code",
   "execution_count": 25,
   "id": "3acad478",
   "metadata": {},
   "outputs": [],
   "source": [
    "# split data into a training set and a test set\n",
    "\n",
    "X2_train, X2_test, y2_train, y2_test = train_test_split(X2, y2, test_size=0.3, random_state=0)"
   ]
  },
  {
   "cell_type": "markdown",
   "id": "eff30769",
   "metadata": {},
   "source": [
    "# Regression analysis"
   ]
  },
  {
   "cell_type": "markdown",
   "id": "3110e5a0",
   "metadata": {},
   "source": [
    "## Doses per 100k vs Death Rate per 100k"
   ]
  },
  {
   "cell_type": "code",
   "execution_count": 26,
   "id": "ff45d510",
   "metadata": {},
   "outputs": [],
   "source": [
    "# create a regression object\n",
    "\n",
    "regression = LinearRegression()"
   ]
  },
  {
   "cell_type": "code",
   "execution_count": 27,
   "id": "e5e368ba",
   "metadata": {},
   "outputs": [
    {
     "data": {
      "text/plain": [
       "LinearRegression()"
      ]
     },
     "execution_count": 27,
     "metadata": {},
     "output_type": "execute_result"
    }
   ],
   "source": [
    "# fit the regression object onto the training set\n",
    "\n",
    "regression.fit(X_train, y_train)"
   ]
  },
  {
   "cell_type": "code",
   "execution_count": 28,
   "id": "8302be51",
   "metadata": {},
   "outputs": [],
   "source": [
    "# predict the values of y using X\n",
    "\n",
    "y_predicted = regression.predict(X_test)"
   ]
  },
  {
   "cell_type": "code",
   "execution_count": 29,
   "id": "cd35f314",
   "metadata": {},
   "outputs": [
    {
     "data": {
      "image/png": "[encoded data removed]",
      "text/plain": [
       "<Figure size 432x288 with 1 Axes>"
      ]
     },
     "metadata": {
      "needs_background": "light"
     },
     "output_type": "display_data"
    }
   ],
   "source": [
    "# create a plot that shows the regression line from the model on the test set\n",
    "\n",
    "plot_test = plt\n",
    "plot_test.scatter(X_test, y_test, color='gray', s = 15)\n",
    "plot_test.plot(X_test, y_predicted, color='red', linewidth =3)\n",
    "plot_test.title('Vaccine Doses per 100k vs Death Rate per 100k (Test set)')\n",
    "plot_test.xlabel('Vaccine Doses per 100k')\n",
    "plot_test.ylabel('Death Rate per 100k')\n",
    "plot_test.show()"
   ]
  },
  {
   "cell_type": "code",
   "execution_count": 30,
   "id": "cfee6e3b",
   "metadata": {},
   "outputs": [],
   "source": [
    "# create objects that contain the model summary statistics\n",
    "\n",
    "rmse = mean_squared_error(y_test, y_predicted)\n",
    "r2 = r2_score(y_test, y_predicted)"
   ]
  },
  {
   "cell_type": "code",
   "execution_count": 31,
   "id": "d6bb7f40",
   "metadata": {},
   "outputs": [
    {
     "name": "stdout",
     "output_type": "stream",
     "text": [
      "Slope: [[-0.00173771]]\n",
      "Mean squared error:  3742.7788809142653\n",
      "R2 score:  0.2534962399637237\n"
     ]
    }
   ],
   "source": [
    "# print the model summary statistics\n",
    "\n",
    "print('Slope:' ,regression.coef_)\n",
    "print('Mean squared error: ', rmse)\n",
    "print('R2 score: ', r2)"
   ]
  },
  {
   "cell_type": "markdown",
   "id": "46609dc2",
   "metadata": {},
   "source": [
    "The slope is negative, so the relationship is negative. This aligns with my hypothesis that increasing the vaccination dose rate with decrease the deaths from COVID-19. The MSE is high at 3742, so the regression line is not an exact representation of the data. The R2 score of 0.25 represents a poor fit. "
   ]
  },
  {
   "cell_type": "code",
   "execution_count": 32,
   "id": "609cbae1",
   "metadata": {},
   "outputs": [
    {
     "data": {
      "text/plain": [
       "array([[206.59389956],\n",
       "       [310.07810228],\n",
       "       [358.64714221],\n",
       "       ...,\n",
       "       [285.50338447],\n",
       "       [311.14505721],\n",
       "       [310.07810228]])"
      ]
     },
     "execution_count": 32,
     "metadata": {},
     "output_type": "execute_result"
    }
   ],
   "source": [
    "y_predicted"
   ]
  },
  {
   "cell_type": "code",
   "execution_count": 33,
   "id": "108708e7",
   "metadata": {},
   "outputs": [
    {
     "data": {
      "text/html": [
       "<div>\n",
       "<style scoped>\n",
       "    .dataframe tbody tr th:only-of-type {\n",
       "        vertical-align: middle;\n",
       "    }\n",
       "\n",
       "    .dataframe tbody tr th {\n",
       "        vertical-align: top;\n",
       "    }\n",
       "\n",
       "    .dataframe thead th {\n",
       "        text-align: right;\n",
       "    }\n",
       "</style>\n",
       "<table border=\"1\" class=\"dataframe\">\n",
       "  <thead>\n",
       "    <tr style=\"text-align: right;\">\n",
       "      <th></th>\n",
       "      <th>Actual</th>\n",
       "      <th>Predicted</th>\n",
       "    </tr>\n",
       "  </thead>\n",
       "  <tbody>\n",
       "    <tr>\n",
       "      <th>0</th>\n",
       "      <td>249.0</td>\n",
       "      <td>206.593900</td>\n",
       "    </tr>\n",
       "    <tr>\n",
       "      <th>1</th>\n",
       "      <td>303.0</td>\n",
       "      <td>310.078102</td>\n",
       "    </tr>\n",
       "    <tr>\n",
       "      <th>2</th>\n",
       "      <td>427.0</td>\n",
       "      <td>358.647142</td>\n",
       "    </tr>\n",
       "    <tr>\n",
       "      <th>3</th>\n",
       "      <td>181.0</td>\n",
       "      <td>262.384869</td>\n",
       "    </tr>\n",
       "    <tr>\n",
       "      <th>4</th>\n",
       "      <td>305.0</td>\n",
       "      <td>366.783108</td>\n",
       "    </tr>\n",
       "    <tr>\n",
       "      <th>5</th>\n",
       "      <td>398.0</td>\n",
       "      <td>354.612176</td>\n",
       "    </tr>\n",
       "    <tr>\n",
       "      <th>6</th>\n",
       "      <td>257.0</td>\n",
       "      <td>331.123528</td>\n",
       "    </tr>\n",
       "    <tr>\n",
       "      <th>7</th>\n",
       "      <td>370.0</td>\n",
       "      <td>324.292583</td>\n",
       "    </tr>\n",
       "    <tr>\n",
       "      <th>8</th>\n",
       "      <td>401.0</td>\n",
       "      <td>277.728863</td>\n",
       "    </tr>\n",
       "    <tr>\n",
       "      <th>9</th>\n",
       "      <td>380.0</td>\n",
       "      <td>380.139160</td>\n",
       "    </tr>\n",
       "    <tr>\n",
       "      <th>10</th>\n",
       "      <td>427.0</td>\n",
       "      <td>358.647142</td>\n",
       "    </tr>\n",
       "    <tr>\n",
       "      <th>11</th>\n",
       "      <td>303.0</td>\n",
       "      <td>310.078102</td>\n",
       "    </tr>\n",
       "    <tr>\n",
       "      <th>12</th>\n",
       "      <td>367.0</td>\n",
       "      <td>348.870777</td>\n",
       "    </tr>\n",
       "    <tr>\n",
       "      <th>13</th>\n",
       "      <td>369.0</td>\n",
       "      <td>332.628386</td>\n",
       "    </tr>\n",
       "    <tr>\n",
       "      <th>14</th>\n",
       "      <td>391.0</td>\n",
       "      <td>318.405216</td>\n",
       "    </tr>\n",
       "    <tr>\n",
       "      <th>15</th>\n",
       "      <td>236.0</td>\n",
       "      <td>278.801031</td>\n",
       "    </tr>\n",
       "    <tr>\n",
       "      <th>16</th>\n",
       "      <td>306.0</td>\n",
       "      <td>312.748965</td>\n",
       "    </tr>\n",
       "    <tr>\n",
       "      <th>17</th>\n",
       "      <td>342.0</td>\n",
       "      <td>353.256761</td>\n",
       "    </tr>\n",
       "    <tr>\n",
       "      <th>18</th>\n",
       "      <td>236.0</td>\n",
       "      <td>278.801031</td>\n",
       "    </tr>\n",
       "    <tr>\n",
       "      <th>19</th>\n",
       "      <td>227.0</td>\n",
       "      <td>318.231445</td>\n",
       "    </tr>\n",
       "    <tr>\n",
       "      <th>20</th>\n",
       "      <td>369.0</td>\n",
       "      <td>332.628386</td>\n",
       "    </tr>\n",
       "    <tr>\n",
       "      <th>21</th>\n",
       "      <td>370.0</td>\n",
       "      <td>324.292583</td>\n",
       "    </tr>\n",
       "    <tr>\n",
       "      <th>22</th>\n",
       "      <td>369.0</td>\n",
       "      <td>362.998372</td>\n",
       "    </tr>\n",
       "    <tr>\n",
       "      <th>23</th>\n",
       "      <td>353.0</td>\n",
       "      <td>321.472277</td>\n",
       "    </tr>\n",
       "    <tr>\n",
       "      <th>24</th>\n",
       "      <td>398.0</td>\n",
       "      <td>354.612176</td>\n",
       "    </tr>\n",
       "    <tr>\n",
       "      <th>25</th>\n",
       "      <td>308.0</td>\n",
       "      <td>300.284360</td>\n",
       "    </tr>\n",
       "    <tr>\n",
       "      <th>26</th>\n",
       "      <td>398.0</td>\n",
       "      <td>354.612176</td>\n",
       "    </tr>\n",
       "    <tr>\n",
       "      <th>27</th>\n",
       "      <td>369.0</td>\n",
       "      <td>362.998372</td>\n",
       "    </tr>\n",
       "    <tr>\n",
       "      <th>28</th>\n",
       "      <td>336.0</td>\n",
       "      <td>302.991714</td>\n",
       "    </tr>\n",
       "    <tr>\n",
       "      <th>29</th>\n",
       "      <td>257.0</td>\n",
       "      <td>331.123528</td>\n",
       "    </tr>\n",
       "  </tbody>\n",
       "</table>\n",
       "</div>"
      ],
      "text/plain": [
       "    Actual   Predicted\n",
       "0    249.0  206.593900\n",
       "1    303.0  310.078102\n",
       "2    427.0  358.647142\n",
       "3    181.0  262.384869\n",
       "4    305.0  366.783108\n",
       "5    398.0  354.612176\n",
       "6    257.0  331.123528\n",
       "7    370.0  324.292583\n",
       "8    401.0  277.728863\n",
       "9    380.0  380.139160\n",
       "10   427.0  358.647142\n",
       "11   303.0  310.078102\n",
       "12   367.0  348.870777\n",
       "13   369.0  332.628386\n",
       "14   391.0  318.405216\n",
       "15   236.0  278.801031\n",
       "16   306.0  312.748965\n",
       "17   342.0  353.256761\n",
       "18   236.0  278.801031\n",
       "19   227.0  318.231445\n",
       "20   369.0  332.628386\n",
       "21   370.0  324.292583\n",
       "22   369.0  362.998372\n",
       "23   353.0  321.472277\n",
       "24   398.0  354.612176\n",
       "25   308.0  300.284360\n",
       "26   398.0  354.612176\n",
       "27   369.0  362.998372\n",
       "28   336.0  302.991714\n",
       "29   257.0  331.123528"
      ]
     },
     "execution_count": 33,
     "metadata": {},
     "output_type": "execute_result"
    }
   ],
   "source": [
    "# create a dataframe comparing the actual and predicted values of Y.\n",
    "\n",
    "data = pd.DataFrame({'Actual': y_test.flatten(), 'Predicted': y_predicted.flatten()})\n",
    "data.head(30)"
   ]
  },
  {
   "cell_type": "code",
   "execution_count": 34,
   "id": "e5554db6",
   "metadata": {},
   "outputs": [],
   "source": [
    "# predict\n",
    "\n",
    "y_predicted_train = regression.predict(X_train) "
   ]
  },
  {
   "cell_type": "code",
   "execution_count": 35,
   "id": "fb6afea1",
   "metadata": {},
   "outputs": [],
   "source": [
    "rmse = mean_squared_error(y_train, y_predicted_train)\n",
    "r2 = r2_score(y_train, y_predicted_train)"
   ]
  },
  {
   "cell_type": "code",
   "execution_count": 36,
   "id": "5ddf31b0",
   "metadata": {},
   "outputs": [
    {
     "name": "stdout",
     "output_type": "stream",
     "text": [
      "Slope: [[-0.00173771]]\n",
      "Mean squared error:  3694.793816503886\n",
      "R2 score:  0.2486471659426418\n"
     ]
    }
   ],
   "source": [
    "print('Slope:' ,regression.coef_)\n",
    "print('Mean squared error: ', rmse)\n",
    "print('R2 score: ', r2)"
   ]
  },
  {
   "cell_type": "markdown",
   "id": "79eeac1c",
   "metadata": {},
   "source": [
    "The values are almost identical to the model, meaning the model was not overdone. The conclusion is that the vaccination rate has a mild effect on the COVID-19 cases, but not enough to coorelate in this analysis."
   ]
  },
  {
   "cell_type": "code",
   "execution_count": 37,
   "id": "3b007502",
   "metadata": {},
   "outputs": [
    {
     "data": {
      "image/png": "[encoded data removed]",
      "text/plain": [
       "<Figure size 432x288 with 1 Axes>"
      ]
     },
     "metadata": {
      "needs_background": "light"
     },
     "output_type": "display_data"
    }
   ],
   "source": [
    "# visualizing the training set results.\n",
    "\n",
    "plot_test = plt\n",
    "plot_test.scatter(X_train, y_train, color='green', s = 15)\n",
    "plot_test.plot(X_train, y_predicted_train, color='red', linewidth =3)\n",
    "plot_test.title('Vaccine Doses per 100k vs Death Rate per 100k (Train set)')\n",
    "plot_test.xlabel('Vaccine Doses per 100k')\n",
    "plot_test.ylabel('Death Rate per 100k')\n",
    "plot_test.show()"
   ]
  },
  {
   "cell_type": "markdown",
   "id": "4eb68e39",
   "metadata": {},
   "source": [
    "## Doses per 100k vs Case Rate per 100k"
   ]
  },
  {
   "cell_type": "code",
   "execution_count": 38,
   "id": "e6845adf",
   "metadata": {},
   "outputs": [],
   "source": [
    "# create a regression object\n",
    "\n",
    "regression = LinearRegression()"
   ]
  },
  {
   "cell_type": "code",
   "execution_count": 39,
   "id": "ca67acde",
   "metadata": {},
   "outputs": [
    {
     "data": {
      "text/plain": [
       "LinearRegression()"
      ]
     },
     "execution_count": 39,
     "metadata": {},
     "output_type": "execute_result"
    }
   ],
   "source": [
    "# fit the regression object onto the training set\n",
    "\n",
    "regression.fit(X2_train, y2_train)"
   ]
  },
  {
   "cell_type": "code",
   "execution_count": 40,
   "id": "210d5a42",
   "metadata": {},
   "outputs": [],
   "source": [
    "# predict the values of y using X\n",
    "\n",
    "y2_predicted = regression.predict(X2_test)"
   ]
  },
  {
   "cell_type": "code",
   "execution_count": 41,
   "id": "43c15f62",
   "metadata": {},
   "outputs": [
    {
     "data": {
      "image/png": "[encoded data removed]",
      "text/plain": [
       "<Figure size 432x288 with 1 Axes>"
      ]
     },
     "metadata": {
      "needs_background": "light"
     },
     "output_type": "display_data"
    }
   ],
   "source": [
    "# create a plot that shows the regression line from the model on the test set\n",
    "\n",
    "plot_test = plt\n",
    "plot_test.scatter(X2_test, y2_test, color='gray', s = 15)\n",
    "plot_test.plot(X2_test, y2_predicted, color='red', linewidth =3)\n",
    "plot_test.title('Vaccine Doses per 100k vs COVID-19 Case Rate per 100k (Test set)')\n",
    "plot_test.xlabel('Vaccine Doses per 100k')\n",
    "plot_test.ylabel('COVID-19 Case Rate per 100k')\n",
    "plot_test.show()"
   ]
  },
  {
   "cell_type": "code",
   "execution_count": 42,
   "id": "e760ac90",
   "metadata": {},
   "outputs": [],
   "source": [
    "# create objects that contain the model summary statistics\n",
    "\n",
    "rmse = mean_squared_error(y2_test, y2_predicted) \n",
    "r2 = r2_score(y2_test, y2_predicted)"
   ]
  },
  {
   "cell_type": "code",
   "execution_count": 43,
   "id": "11863a2e",
   "metadata": {},
   "outputs": [
    {
     "name": "stdout",
     "output_type": "stream",
     "text": [
      "Slope: [[-0.07313434]]\n",
      "Mean squared error:  7374559.243053601\n",
      "R2 score:  0.22549902736215566\n"
     ]
    }
   ],
   "source": [
    "# print the model summary statistics\n",
    "\n",
    "print('Slope:' ,regression.coef_)\n",
    "print('Mean squared error: ', rmse)\n",
    "print('R2 score: ', r2)"
   ]
  },
  {
   "cell_type": "markdown",
   "id": "81a3320e",
   "metadata": {},
   "source": [
    "The slope is negative, so the relationship is negative. This aligns with my hypothesis that increasing the vaccination dose rate with decrease the cases of COVID-19. The MSE is high at 7374559, so the regression line is not an exact representation of the data. The R2 score of 0.22 represents a poor fit."
   ]
  },
  {
   "cell_type": "code",
   "execution_count": 44,
   "id": "e2f4d1d9",
   "metadata": {},
   "outputs": [
    {
     "data": {
      "text/plain": [
       "array([[23609.56720963],\n",
       "       [27964.86357063],\n",
       "       [30008.96844183],\n",
       "       ...,\n",
       "       [26930.59769984],\n",
       "       [28009.76805689],\n",
       "       [27964.86357063]])"
      ]
     },
     "execution_count": 44,
     "metadata": {},
     "output_type": "execute_result"
    }
   ],
   "source": [
    "y2_predicted"
   ]
  },
  {
   "cell_type": "code",
   "execution_count": 45,
   "id": "2e56ea30",
   "metadata": {},
   "outputs": [
    {
     "data": {
      "text/html": [
       "<div>\n",
       "<style scoped>\n",
       "    .dataframe tbody tr th:only-of-type {\n",
       "        vertical-align: middle;\n",
       "    }\n",
       "\n",
       "    .dataframe tbody tr th {\n",
       "        vertical-align: top;\n",
       "    }\n",
       "\n",
       "    .dataframe thead th {\n",
       "        text-align: right;\n",
       "    }\n",
       "</style>\n",
       "<table border=\"1\" class=\"dataframe\">\n",
       "  <thead>\n",
       "    <tr style=\"text-align: right;\">\n",
       "      <th></th>\n",
       "      <th>Actual</th>\n",
       "      <th>Predicted</th>\n",
       "    </tr>\n",
       "  </thead>\n",
       "  <tbody>\n",
       "    <tr>\n",
       "      <th>0</th>\n",
       "      <td>19871.0</td>\n",
       "      <td>23609.567210</td>\n",
       "    </tr>\n",
       "    <tr>\n",
       "      <th>1</th>\n",
       "      <td>26089.0</td>\n",
       "      <td>27964.863571</td>\n",
       "    </tr>\n",
       "    <tr>\n",
       "      <th>2</th>\n",
       "      <td>29931.0</td>\n",
       "      <td>30008.968442</td>\n",
       "    </tr>\n",
       "    <tr>\n",
       "      <th>3</th>\n",
       "      <td>23095.0</td>\n",
       "      <td>25957.618408</td>\n",
       "    </tr>\n",
       "    <tr>\n",
       "      <th>4</th>\n",
       "      <td>34220.0</td>\n",
       "      <td>30351.383433</td>\n",
       "    </tr>\n",
       "    <tr>\n",
       "      <th>5</th>\n",
       "      <td>32727.0</td>\n",
       "      <td>29839.150499</td>\n",
       "    </tr>\n",
       "    <tr>\n",
       "      <th>6</th>\n",
       "      <td>30938.0</td>\n",
       "      <td>28850.593592</td>\n",
       "    </tr>\n",
       "    <tr>\n",
       "      <th>7</th>\n",
       "      <td>26405.0</td>\n",
       "      <td>28563.102492</td>\n",
       "    </tr>\n",
       "    <tr>\n",
       "      <th>8</th>\n",
       "      <td>31606.0</td>\n",
       "      <td>26603.394652</td>\n",
       "    </tr>\n",
       "    <tr>\n",
       "      <th>9</th>\n",
       "      <td>30083.0</td>\n",
       "      <td>30913.493989</td>\n",
       "    </tr>\n",
       "    <tr>\n",
       "      <th>10</th>\n",
       "      <td>29931.0</td>\n",
       "      <td>30008.968442</td>\n",
       "    </tr>\n",
       "    <tr>\n",
       "      <th>11</th>\n",
       "      <td>26089.0</td>\n",
       "      <td>27964.863571</td>\n",
       "    </tr>\n",
       "    <tr>\n",
       "      <th>12</th>\n",
       "      <td>27106.0</td>\n",
       "      <td>29597.514631</td>\n",
       "    </tr>\n",
       "    <tr>\n",
       "      <th>13</th>\n",
       "      <td>33596.0</td>\n",
       "      <td>28913.927932</td>\n",
       "    </tr>\n",
       "    <tr>\n",
       "      <th>14</th>\n",
       "      <td>30307.0</td>\n",
       "      <td>28315.323340</td>\n",
       "    </tr>\n",
       "    <tr>\n",
       "      <th>15</th>\n",
       "      <td>28570.0</td>\n",
       "      <td>26648.518541</td>\n",
       "    </tr>\n",
       "    <tr>\n",
       "      <th>16</th>\n",
       "      <td>29112.0</td>\n",
       "      <td>28077.271055</td>\n",
       "    </tr>\n",
       "    <tr>\n",
       "      <th>17</th>\n",
       "      <td>25719.0</td>\n",
       "      <td>29782.105712</td>\n",
       "    </tr>\n",
       "    <tr>\n",
       "      <th>18</th>\n",
       "      <td>28570.0</td>\n",
       "      <td>26648.518541</td>\n",
       "    </tr>\n",
       "    <tr>\n",
       "      <th>19</th>\n",
       "      <td>27010.0</td>\n",
       "      <td>28308.009905</td>\n",
       "    </tr>\n",
       "    <tr>\n",
       "      <th>20</th>\n",
       "      <td>33596.0</td>\n",
       "      <td>28913.927932</td>\n",
       "    </tr>\n",
       "    <tr>\n",
       "      <th>21</th>\n",
       "      <td>26405.0</td>\n",
       "      <td>28563.102492</td>\n",
       "    </tr>\n",
       "    <tr>\n",
       "      <th>22</th>\n",
       "      <td>28917.0</td>\n",
       "      <td>30192.096835</td>\n",
       "    </tr>\n",
       "    <tr>\n",
       "      <th>23</th>\n",
       "      <td>31796.0</td>\n",
       "      <td>28444.405454</td>\n",
       "    </tr>\n",
       "    <tr>\n",
       "      <th>24</th>\n",
       "      <td>32727.0</td>\n",
       "      <td>29839.150499</td>\n",
       "    </tr>\n",
       "    <tr>\n",
       "      <th>25</th>\n",
       "      <td>28545.0</td>\n",
       "      <td>27552.678417</td>\n",
       "    </tr>\n",
       "    <tr>\n",
       "      <th>26</th>\n",
       "      <td>32727.0</td>\n",
       "      <td>29839.150499</td>\n",
       "    </tr>\n",
       "    <tr>\n",
       "      <th>27</th>\n",
       "      <td>28917.0</td>\n",
       "      <td>30192.096835</td>\n",
       "    </tr>\n",
       "    <tr>\n",
       "      <th>28</th>\n",
       "      <td>28625.0</td>\n",
       "      <td>27666.621722</td>\n",
       "    </tr>\n",
       "    <tr>\n",
       "      <th>29</th>\n",
       "      <td>30938.0</td>\n",
       "      <td>28850.593592</td>\n",
       "    </tr>\n",
       "  </tbody>\n",
       "</table>\n",
       "</div>"
      ],
      "text/plain": [
       "     Actual     Predicted\n",
       "0   19871.0  23609.567210\n",
       "1   26089.0  27964.863571\n",
       "2   29931.0  30008.968442\n",
       "3   23095.0  25957.618408\n",
       "4   34220.0  30351.383433\n",
       "5   32727.0  29839.150499\n",
       "6   30938.0  28850.593592\n",
       "7   26405.0  28563.102492\n",
       "8   31606.0  26603.394652\n",
       "9   30083.0  30913.493989\n",
       "10  29931.0  30008.968442\n",
       "11  26089.0  27964.863571\n",
       "12  27106.0  29597.514631\n",
       "13  33596.0  28913.927932\n",
       "14  30307.0  28315.323340\n",
       "15  28570.0  26648.518541\n",
       "16  29112.0  28077.271055\n",
       "17  25719.0  29782.105712\n",
       "18  28570.0  26648.518541\n",
       "19  27010.0  28308.009905\n",
       "20  33596.0  28913.927932\n",
       "21  26405.0  28563.102492\n",
       "22  28917.0  30192.096835\n",
       "23  31796.0  28444.405454\n",
       "24  32727.0  29839.150499\n",
       "25  28545.0  27552.678417\n",
       "26  32727.0  29839.150499\n",
       "27  28917.0  30192.096835\n",
       "28  28625.0  27666.621722\n",
       "29  30938.0  28850.593592"
      ]
     },
     "execution_count": 45,
     "metadata": {},
     "output_type": "execute_result"
    }
   ],
   "source": [
    "# create a dataframe comparing the actual and predicted values of Y.\n",
    "\n",
    "data = pd.DataFrame({'Actual': y2_test.flatten(), 'Predicted': y2_predicted.flatten()})\n",
    "data.head(30)"
   ]
  },
  {
   "cell_type": "code",
   "execution_count": 46,
   "id": "45d6ac80",
   "metadata": {},
   "outputs": [],
   "source": [
    "# predict\n",
    "\n",
    "y2_predicted_train = regression.predict(X2_train) "
   ]
  },
  {
   "cell_type": "code",
   "execution_count": 47,
   "id": "d1da8832",
   "metadata": {},
   "outputs": [],
   "source": [
    "rmse = mean_squared_error(y2_train, y2_predicted_train)\n",
    "r2 = r2_score(y2_train, y2_predicted_train)"
   ]
  },
  {
   "cell_type": "code",
   "execution_count": 48,
   "id": "515009d4",
   "metadata": {},
   "outputs": [
    {
     "name": "stdout",
     "output_type": "stream",
     "text": [
      "Slope: [[-0.07313434]]\n",
      "Mean squared error:  7206186.2362215035\n",
      "R2 score:  0.2310924451281111\n"
     ]
    }
   ],
   "source": [
    "print('Slope:' ,regression.coef_)\n",
    "print('Mean squared error: ', rmse)\n",
    "print('R2 score: ', r2)"
   ]
  },
  {
   "cell_type": "markdown",
   "id": "aa41edd3",
   "metadata": {},
   "source": [
    "The values are almost identical to the model, meaning the model was not overdone. The conclusion is that the vaccination rate has a mild effect on the COVID-19 cases, but not enough to coorelate in this analysis."
   ]
  },
  {
   "cell_type": "code",
   "execution_count": 49,
   "id": "9b730808",
   "metadata": {},
   "outputs": [
    {
     "data": {
      "image/png": "[encoded data removed]",
      "text/plain": [
       "<Figure size 432x288 with 1 Axes>"
      ]
     },
     "metadata": {
      "needs_background": "light"
     },
     "output_type": "display_data"
    }
   ],
   "source": [
    "# visualizing the training set results\n",
    "\n",
    "plot_test = plt\n",
    "plot_test.scatter(X2_train, y2_train, color='green', s = 15)\n",
    "plot_test.plot(X2_train, y2_predicted_train, color='red', linewidth =3)\n",
    "plot_test.title('Vaccine Doses per 100k vs COVID-19 Case Rate per 100k (Train set)')\n",
    "plot_test.xlabel('Vaccine Doses per 100k')\n",
    "plot_test.ylabel('COVID-19 Case Rate per 100k')\n",
    "plot_test.show()"
   ]
  }
 ],
 "metadata": {
  "kernelspec": {
   "display_name": "Python 3 (ipykernel)",
   "language": "python",
   "name": "python3"
  },
  "language_info": {
   "codemirror_mode": {
    "name": "ipython",
    "version": 3
   },
   "file_extension": ".py",
   "mimetype": "text/x-python",
   "name": "python",
   "nbconvert_exporter": "python",
   "pygments_lexer": "ipython3",
   "version": "3.9.12"
  }
 },
 "nbformat": 4,
 "nbformat_minor": 5
}
